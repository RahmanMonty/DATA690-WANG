{
  "nbformat": 4,
  "nbformat_minor": 0,
  "metadata": {
    "colab": {
      "name": "Assignment_08.ipynb",
      "provenance": [],
      "authorship_tag": "ABX9TyMHMuhJVZ1dHxKwDU+GjyEW",
      "include_colab_link": true
    },
    "kernelspec": {
      "name": "python3",
      "display_name": "Python 3"
    }
  },
  "cells": [
    {
      "cell_type": "markdown",
      "metadata": {
        "id": "view-in-github",
        "colab_type": "text"
      },
      "source": [
        "<a href=\"https://colab.research.google.com/github/RahmanMonty/DATA690-WANG/blob/master/Assignments/Assignment_08.ipynb\" target=\"_parent\"><img src=\"https://colab.research.google.com/assets/colab-badge.svg\" alt=\"Open In Colab\"/></a>"
      ]
    },
    {
      "cell_type": "code",
      "metadata": {
        "id": "WStzIsJaVuxl",
        "colab_type": "code",
        "colab": {}
      },
      "source": [
        "import pandas as pd\n",
        "import numpy as np\n",
        "import math"
      ],
      "execution_count": 0,
      "outputs": []
    },
    {
      "cell_type": "code",
      "metadata": {
        "id": "B--8VBirWG2i",
        "colab_type": "code",
        "colab": {}
      },
      "source": [
        "College = \"https://ed-public-download.app.cloud.gov/downloads/Most-Recent-Cohorts-All-Data-Elements.csv\"\n"
      ],
      "execution_count": 0,
      "outputs": []
    },
    {
      "cell_type": "markdown",
      "metadata": {
        "id": "XLwlqTffYhhu",
        "colab_type": "text"
      },
      "source": [
        "Loading CSV and selecting wanted columns"
      ]
    },
    {
      "cell_type": "code",
      "metadata": {
        "id": "qr0gUcifXjol",
        "colab_type": "code",
        "outputId": "27c2a24a-5d3a-4acb-8c7b-cf86bc73bd81",
        "colab": {
          "base_uri": "https://localhost:8080/",
          "height": 195
        }
      },
      "source": [
        "CollegeInfo = pd.read_csv(College, usecols = ['CONTROL','MD_EARN_WNE_P10'])\n",
        "CollegeInfo.head()"
      ],
      "execution_count": 0,
      "outputs": [
        {
          "output_type": "execute_result",
          "data": {
            "text/html": [
              "<div>\n",
              "<style scoped>\n",
              "    .dataframe tbody tr th:only-of-type {\n",
              "        vertical-align: middle;\n",
              "    }\n",
              "\n",
              "    .dataframe tbody tr th {\n",
              "        vertical-align: top;\n",
              "    }\n",
              "\n",
              "    .dataframe thead th {\n",
              "        text-align: right;\n",
              "    }\n",
              "</style>\n",
              "<table border=\"1\" class=\"dataframe\">\n",
              "  <thead>\n",
              "    <tr style=\"text-align: right;\">\n",
              "      <th></th>\n",
              "      <th>CONTROL</th>\n",
              "      <th>MD_EARN_WNE_P10</th>\n",
              "    </tr>\n",
              "  </thead>\n",
              "  <tbody>\n",
              "    <tr>\n",
              "      <th>0</th>\n",
              "      <td>1</td>\n",
              "      <td>31000</td>\n",
              "    </tr>\n",
              "    <tr>\n",
              "      <th>1</th>\n",
              "      <td>1</td>\n",
              "      <td>41200</td>\n",
              "    </tr>\n",
              "    <tr>\n",
              "      <th>2</th>\n",
              "      <td>2</td>\n",
              "      <td>39600</td>\n",
              "    </tr>\n",
              "    <tr>\n",
              "      <th>3</th>\n",
              "      <td>1</td>\n",
              "      <td>46700</td>\n",
              "    </tr>\n",
              "    <tr>\n",
              "      <th>4</th>\n",
              "      <td>1</td>\n",
              "      <td>27700</td>\n",
              "    </tr>\n",
              "  </tbody>\n",
              "</table>\n",
              "</div>"
            ],
            "text/plain": [
              "   CONTROL MD_EARN_WNE_P10\n",
              "0        1           31000\n",
              "1        1           41200\n",
              "2        2           39600\n",
              "3        1           46700\n",
              "4        1           27700"
            ]
          },
          "metadata": {
            "tags": []
          },
          "execution_count": 40
        }
      ]
    },
    {
      "cell_type": "markdown",
      "metadata": {
        "id": "Lsm1scXaYs6a",
        "colab_type": "text"
      },
      "source": [
        "In the csv file public schools are logged as 1 under the Control column and private schools are 2 under the Control column. We only want to observe the public schools."
      ]
    },
    {
      "cell_type": "code",
      "metadata": {
        "id": "K3nTB3D6YCf1",
        "colab_type": "code",
        "outputId": "61753e34-8f65-43e8-e567-03c53d21f5cf",
        "colab": {
          "base_uri": "https://localhost:8080/",
          "height": 402
        }
      },
      "source": [
        "New = CollegeInfo.loc[CollegeInfo['CONTROL']== 1]\n",
        "New"
      ],
      "execution_count": 0,
      "outputs": [
        {
          "output_type": "execute_result",
          "data": {
            "text/html": [
              "<div>\n",
              "<style scoped>\n",
              "    .dataframe tbody tr th:only-of-type {\n",
              "        vertical-align: middle;\n",
              "    }\n",
              "\n",
              "    .dataframe tbody tr th {\n",
              "        vertical-align: top;\n",
              "    }\n",
              "\n",
              "    .dataframe thead th {\n",
              "        text-align: right;\n",
              "    }\n",
              "</style>\n",
              "<table border=\"1\" class=\"dataframe\">\n",
              "  <thead>\n",
              "    <tr style=\"text-align: right;\">\n",
              "      <th></th>\n",
              "      <th>CONTROL</th>\n",
              "      <th>MD_EARN_WNE_P10</th>\n",
              "    </tr>\n",
              "  </thead>\n",
              "  <tbody>\n",
              "    <tr>\n",
              "      <th>0</th>\n",
              "      <td>1</td>\n",
              "      <td>31000</td>\n",
              "    </tr>\n",
              "    <tr>\n",
              "      <th>1</th>\n",
              "      <td>1</td>\n",
              "      <td>41200</td>\n",
              "    </tr>\n",
              "    <tr>\n",
              "      <th>3</th>\n",
              "      <td>1</td>\n",
              "      <td>46700</td>\n",
              "    </tr>\n",
              "    <tr>\n",
              "      <th>4</th>\n",
              "      <td>1</td>\n",
              "      <td>27700</td>\n",
              "    </tr>\n",
              "    <tr>\n",
              "      <th>5</th>\n",
              "      <td>1</td>\n",
              "      <td>44500</td>\n",
              "    </tr>\n",
              "    <tr>\n",
              "      <th>...</th>\n",
              "      <td>...</td>\n",
              "      <td>...</td>\n",
              "    </tr>\n",
              "    <tr>\n",
              "      <th>6799</th>\n",
              "      <td>1</td>\n",
              "      <td>NaN</td>\n",
              "    </tr>\n",
              "    <tr>\n",
              "      <th>6800</th>\n",
              "      <td>1</td>\n",
              "      <td>NaN</td>\n",
              "    </tr>\n",
              "    <tr>\n",
              "      <th>6801</th>\n",
              "      <td>1</td>\n",
              "      <td>NaN</td>\n",
              "    </tr>\n",
              "    <tr>\n",
              "      <th>6802</th>\n",
              "      <td>1</td>\n",
              "      <td>NaN</td>\n",
              "    </tr>\n",
              "    <tr>\n",
              "      <th>6805</th>\n",
              "      <td>1</td>\n",
              "      <td>NaN</td>\n",
              "    </tr>\n",
              "  </tbody>\n",
              "</table>\n",
              "<p>2102 rows × 2 columns</p>\n",
              "</div>"
            ],
            "text/plain": [
              "      CONTROL MD_EARN_WNE_P10\n",
              "0           1           31000\n",
              "1           1           41200\n",
              "3           1           46700\n",
              "4           1           27700\n",
              "5           1           44500\n",
              "...       ...             ...\n",
              "6799        1             NaN\n",
              "6800        1             NaN\n",
              "6801        1             NaN\n",
              "6802        1             NaN\n",
              "6805        1             NaN\n",
              "\n",
              "[2102 rows x 2 columns]"
            ]
          },
          "metadata": {
            "tags": []
          },
          "execution_count": 50
        }
      ]
    },
    {
      "cell_type": "code",
      "metadata": {
        "id": "IsOUE3Tpb7V5",
        "colab_type": "code",
        "outputId": "7fa6ce13-2aa2-459d-92b8-c470e168f9e8",
        "colab": {
          "base_uri": "https://localhost:8080/",
          "height": 47
        }
      },
      "source": [
        "New[New[\"MD_EARN_WNE_P10\"] == 0]"
      ],
      "execution_count": 0,
      "outputs": [
        {
          "output_type": "execute_result",
          "data": {
            "text/html": [
              "<div>\n",
              "<style scoped>\n",
              "    .dataframe tbody tr th:only-of-type {\n",
              "        vertical-align: middle;\n",
              "    }\n",
              "\n",
              "    .dataframe tbody tr th {\n",
              "        vertical-align: top;\n",
              "    }\n",
              "\n",
              "    .dataframe thead th {\n",
              "        text-align: right;\n",
              "    }\n",
              "</style>\n",
              "<table border=\"1\" class=\"dataframe\">\n",
              "  <thead>\n",
              "    <tr style=\"text-align: right;\">\n",
              "      <th></th>\n",
              "      <th>CONTROL</th>\n",
              "      <th>MD_EARN_WNE_P10</th>\n",
              "    </tr>\n",
              "  </thead>\n",
              "  <tbody>\n",
              "  </tbody>\n",
              "</table>\n",
              "</div>"
            ],
            "text/plain": [
              "Empty DataFrame\n",
              "Columns: [CONTROL, MD_EARN_WNE_P10]\n",
              "Index: []"
            ]
          },
          "metadata": {
            "tags": []
          },
          "execution_count": 47
        }
      ]
    },
    {
      "cell_type": "code",
      "metadata": {
        "id": "e6sh7gWUeVJq",
        "colab_type": "code",
        "outputId": "ffc16cf7-7229-455a-9097-a800df38f294",
        "colab": {
          "base_uri": "https://localhost:8080/",
          "height": 195
        }
      },
      "source": [
        "# Here we are removing any values of 0 from the column\n",
        "New = New[New[\"MD_EARN_WNE_P10\"] != 0]\n"
      ],
      "execution_count": 0,
      "outputs": [
        {
          "output_type": "execute_result",
          "data": {
            "text/html": [
              "<div>\n",
              "<style scoped>\n",
              "    .dataframe tbody tr th:only-of-type {\n",
              "        vertical-align: middle;\n",
              "    }\n",
              "\n",
              "    .dataframe tbody tr th {\n",
              "        vertical-align: top;\n",
              "    }\n",
              "\n",
              "    .dataframe thead th {\n",
              "        text-align: right;\n",
              "    }\n",
              "</style>\n",
              "<table border=\"1\" class=\"dataframe\">\n",
              "  <thead>\n",
              "    <tr style=\"text-align: right;\">\n",
              "      <th></th>\n",
              "      <th>CONTROL</th>\n",
              "      <th>MD_EARN_WNE_P10</th>\n",
              "    </tr>\n",
              "  </thead>\n",
              "  <tbody>\n",
              "    <tr>\n",
              "      <th>0</th>\n",
              "      <td>1</td>\n",
              "      <td>31000</td>\n",
              "    </tr>\n",
              "    <tr>\n",
              "      <th>1</th>\n",
              "      <td>1</td>\n",
              "      <td>41200</td>\n",
              "    </tr>\n",
              "    <tr>\n",
              "      <th>3</th>\n",
              "      <td>1</td>\n",
              "      <td>46700</td>\n",
              "    </tr>\n",
              "    <tr>\n",
              "      <th>4</th>\n",
              "      <td>1</td>\n",
              "      <td>27700</td>\n",
              "    </tr>\n",
              "    <tr>\n",
              "      <th>5</th>\n",
              "      <td>1</td>\n",
              "      <td>44500</td>\n",
              "    </tr>\n",
              "  </tbody>\n",
              "</table>\n",
              "</div>"
            ],
            "text/plain": [
              "   CONTROL MD_EARN_WNE_P10\n",
              "0        1           31000\n",
              "1        1           41200\n",
              "3        1           46700\n",
              "4        1           27700\n",
              "5        1           44500"
            ]
          },
          "metadata": {
            "tags": []
          },
          "execution_count": 51
        }
      ]
    },
    {
      "cell_type": "code",
      "metadata": {
        "id": "9HILTeOeflKX",
        "colab_type": "code",
        "colab": {}
      },
      "source": [
        "# Here we are removing \"PrivacySuppressed from the column\"\n",
        "New = New[New[\"MD_EARN_WNE_P10\"] != \"PrivacySuppressed\"]"
      ],
      "execution_count": 0,
      "outputs": []
    },
    {
      "cell_type": "code",
      "metadata": {
        "id": "bwM0pV4_fCbX",
        "colab_type": "code",
        "colab": {}
      },
      "source": [
        "New.dropna(inplace=True)\n",
        "New.info"
      ],
      "execution_count": 0,
      "outputs": []
    },
    {
      "cell_type": "code",
      "metadata": {
        "id": "1ogP_PC_esFM",
        "colab_type": "code",
        "outputId": "d5ae7355-dd22-4c9e-ce3e-c16d369675c6",
        "colab": {
          "base_uri": "https://localhost:8080/",
          "height": 195
        }
      },
      "source": [
        "SampleSize = 50\n",
        "New50 = New.sample(50)\n",
        "New50.head()"
      ],
      "execution_count": 0,
      "outputs": [
        {
          "output_type": "execute_result",
          "data": {
            "text/html": [
              "<div>\n",
              "<style scoped>\n",
              "    .dataframe tbody tr th:only-of-type {\n",
              "        vertical-align: middle;\n",
              "    }\n",
              "\n",
              "    .dataframe tbody tr th {\n",
              "        vertical-align: top;\n",
              "    }\n",
              "\n",
              "    .dataframe thead th {\n",
              "        text-align: right;\n",
              "    }\n",
              "</style>\n",
              "<table border=\"1\" class=\"dataframe\">\n",
              "  <thead>\n",
              "    <tr style=\"text-align: right;\">\n",
              "      <th></th>\n",
              "      <th>CONTROL</th>\n",
              "      <th>MD_EARN_WNE_P10</th>\n",
              "    </tr>\n",
              "  </thead>\n",
              "  <tbody>\n",
              "    <tr>\n",
              "      <th>504</th>\n",
              "      <td>1</td>\n",
              "      <td>35200</td>\n",
              "    </tr>\n",
              "    <tr>\n",
              "      <th>4367</th>\n",
              "      <td>1</td>\n",
              "      <td>27900</td>\n",
              "    </tr>\n",
              "    <tr>\n",
              "      <th>2091</th>\n",
              "      <td>1</td>\n",
              "      <td>30700</td>\n",
              "    </tr>\n",
              "    <tr>\n",
              "      <th>3059</th>\n",
              "      <td>1</td>\n",
              "      <td>48400</td>\n",
              "    </tr>\n",
              "    <tr>\n",
              "      <th>3124</th>\n",
              "      <td>1</td>\n",
              "      <td>25800</td>\n",
              "    </tr>\n",
              "  </tbody>\n",
              "</table>\n",
              "</div>"
            ],
            "text/plain": [
              "      CONTROL MD_EARN_WNE_P10\n",
              "504         1           35200\n",
              "4367        1           27900\n",
              "2091        1           30700\n",
              "3059        1           48400\n",
              "3124        1           25800"
            ]
          },
          "metadata": {
            "tags": []
          },
          "execution_count": 90
        }
      ]
    },
    {
      "cell_type": "code",
      "metadata": {
        "id": "HsBXQhLKjyw5",
        "colab_type": "code",
        "outputId": "cfc5722e-d138-42e5-e455-3919ecabc64b",
        "colab": {
          "base_uri": "https://localhost:8080/",
          "height": 84
        }
      },
      "source": [
        "New50[\"MD_EARN_WNE_P10\"] = New50[\"MD_EARN_WNE_P10\"].astype(\"int\")\n",
        "New50.dtypes"
      ],
      "execution_count": 0,
      "outputs": [
        {
          "output_type": "execute_result",
          "data": {
            "text/plain": [
              "CONTROL            object\n",
              "MD_EARN_WNE_P10     int64\n",
              "MD_EARN_WNE_10      int64\n",
              "dtype: object"
            ]
          },
          "metadata": {
            "tags": []
          },
          "execution_count": 80
        }
      ]
    },
    {
      "cell_type": "code",
      "metadata": {
        "id": "YSW3_LkUf4vs",
        "colab_type": "code",
        "outputId": "ebca8c2b-d695-48e6-9c02-27d332002fe8",
        "colab": {
          "base_uri": "https://localhost:8080/",
          "height": 34
        }
      },
      "source": [
        "#Calculating Standard Deviation the easy way\n",
        "\n",
        "College_STD = New50[\"MD_EARN_WNE_P10\"].std()\n",
        "College_Mean = New50[\"MD_EARN_WNE_P10\"].mean()\n",
        "round(College_STD , 2)\n"
      ],
      "execution_count": 0,
      "outputs": [
        {
          "output_type": "execute_result",
          "data": {
            "text/plain": [
              "10249.4"
            ]
          },
          "metadata": {
            "tags": []
          },
          "execution_count": 89
        }
      ]
    },
    {
      "cell_type": "code",
      "metadata": {
        "id": "NuG_dL91lhTb",
        "colab_type": "code",
        "outputId": "c62342fb-7e1f-4fdf-9ed9-4484a394a7a9",
        "colab": {
          "base_uri": "https://localhost:8080/",
          "height": 34
        }
      },
      "source": [
        "#Standard Error\n",
        "\n",
        "SE = College_STD / math.sqrt(SampleSize)\n",
        "SE\n",
        "\n"
      ],
      "execution_count": 0,
      "outputs": [
        {
          "output_type": "execute_result",
          "data": {
            "text/plain": [
              "1449.4839616574034"
            ]
          },
          "metadata": {
            "tags": []
          },
          "execution_count": 94
        }
      ]
    },
    {
      "cell_type": "code",
      "metadata": {
        "id": "-7TZ7slGns47",
        "colab_type": "code",
        "outputId": "85df6ffb-e62c-491a-834d-f03bf1cfa402",
        "colab": {
          "base_uri": "https://localhost:8080/",
          "height": 50
        }
      },
      "source": [
        "LCL68 = College_Mean - SE\n",
        "UCL68 = College_Mean + SE\n",
        "print(LCL68)\n",
        "print(UCL68)"
      ],
      "execution_count": 0,
      "outputs": [
        {
          "output_type": "stream",
          "text": [
            "34654.5160383426\n",
            "37553.4839616574\n"
          ],
          "name": "stdout"
        }
      ]
    },
    {
      "cell_type": "code",
      "metadata": {
        "id": "-zBsj0ENoXuP",
        "colab_type": "code",
        "outputId": "9d04b823-9920-4c00-e5a7-b11cffb6216f",
        "colab": {
          "base_uri": "https://localhost:8080/",
          "height": 50
        }
      },
      "source": [
        "LCL95 = College_Mean -  2 * SE\n",
        "UCL95 = College_Mean +  2 * SE\n",
        "print(LCL95)\n",
        "print(UCL95)"
      ],
      "execution_count": 0,
      "outputs": [
        {
          "output_type": "stream",
          "text": [
            "33205.032076685195\n",
            "39002.967923314805\n"
          ],
          "name": "stdout"
        }
      ]
    },
    {
      "cell_type": "code",
      "metadata": {
        "id": "xNRsgCEbovSz",
        "colab_type": "code",
        "outputId": "baef3628-2193-438a-b763-258e8c936940",
        "colab": {
          "base_uri": "https://localhost:8080/",
          "height": 50
        }
      },
      "source": [
        "LCL997 = College_Mean -  3 * SE\n",
        "UCL997 = College_Mean +  3 * SE\n",
        "print(LCL997)\n",
        "print(UCL997)"
      ],
      "execution_count": 0,
      "outputs": [
        {
          "output_type": "stream",
          "text": [
            "31755.548115027792\n",
            "40452.45188497221\n"
          ],
          "name": "stdout"
        }
      ]
    },
    {
      "cell_type": "code",
      "metadata": {
        "id": "jKAnnLWUpFY-",
        "colab_type": "code",
        "colab": {}
      },
      "source": [
        "PM = np.mean(New[\"MD_EARN_WNE_P10\"].astype(\"int\"))\n",
        "\n"
      ],
      "execution_count": 0,
      "outputs": []
    },
    {
      "cell_type": "code",
      "metadata": {
        "id": "5TgvzTL_qGWD",
        "colab_type": "code",
        "outputId": "86a5691a-d5ed-4014-ef94-dfcef77ad2e5",
        "colab": {
          "base_uri": "https://localhost:8080/",
          "height": 67
        }
      },
      "source": [
        "print(PM)\n",
        "print(College_Mean)\n",
        "print(\"The difference between the two means are\", College_Mean - PM)"
      ],
      "execution_count": 0,
      "outputs": [
        {
          "output_type": "stream",
          "text": [
            "36083.21640582839\n",
            "36104.0\n",
            "The difference between the two means are 20.783594171611185\n"
          ],
          "name": "stdout"
        }
      ]
    },
    {
      "cell_type": "code",
      "metadata": {
        "id": "PBNEBOOurtmu",
        "colab_type": "code",
        "colab": {}
      },
      "source": [
        "New100 = New.sample(100)\n",
        "SampleSize2 = 100"
      ],
      "execution_count": 0,
      "outputs": []
    },
    {
      "cell_type": "code",
      "metadata": {
        "id": "xDqmZH1NsDDI",
        "colab_type": "code",
        "outputId": "d940e735-6b8d-470e-f7c7-153c724ef2d6",
        "colab": {
          "base_uri": "https://localhost:8080/",
          "height": 67
        }
      },
      "source": [
        "New100[\"MD_EARN_WNE_P10\"] = New100[\"MD_EARN_WNE_P10\"].astype(\"int\")\n",
        "New100.dtypes"
      ],
      "execution_count": 0,
      "outputs": [
        {
          "output_type": "execute_result",
          "data": {
            "text/plain": [
              "CONTROL            int64\n",
              "MD_EARN_WNE_P10    int64\n",
              "dtype: object"
            ]
          },
          "metadata": {
            "tags": []
          },
          "execution_count": 124
        }
      ]
    },
    {
      "cell_type": "code",
      "metadata": {
        "id": "jV9olmawsKKJ",
        "colab_type": "code",
        "outputId": "99a3ba9c-e0da-4bc8-c74e-f22e89053a8e",
        "colab": {
          "base_uri": "https://localhost:8080/",
          "height": 34
        }
      },
      "source": [
        "College_STD2 = New100[\"MD_EARN_WNE_P10\"].std()\n",
        "College_Mean2 = New100[\"MD_EARN_WNE_P10\"].mean()\n",
        "round(College_STD2 , 2)"
      ],
      "execution_count": 0,
      "outputs": [
        {
          "output_type": "execute_result",
          "data": {
            "text/plain": [
              "22255.74"
            ]
          },
          "metadata": {
            "tags": []
          },
          "execution_count": 125
        }
      ]
    },
    {
      "cell_type": "code",
      "metadata": {
        "id": "_UsQXY8HsP9r",
        "colab_type": "code",
        "outputId": "b8d1e651-e3e3-425e-adbc-40b1eb528205",
        "colab": {
          "base_uri": "https://localhost:8080/",
          "height": 34
        }
      },
      "source": [
        "SE2 = College_STD2 / math.sqrt(SampleSize2)\n",
        "SE2"
      ],
      "execution_count": 0,
      "outputs": [
        {
          "output_type": "execute_result",
          "data": {
            "text/plain": [
              "2225.573808656495"
            ]
          },
          "metadata": {
            "tags": []
          },
          "execution_count": 131
        }
      ]
    },
    {
      "cell_type": "code",
      "metadata": {
        "id": "Y7cmoDUasbKO",
        "colab_type": "code",
        "outputId": "2eeb8b6e-63f0-47cc-de96-84fd85a4984e",
        "colab": {
          "base_uri": "https://localhost:8080/",
          "height": 50
        }
      },
      "source": [
        "LCL68_2 = College_Mean2 - SE2\n",
        "UCL68_2 = College_Mean2 + SE2\n",
        "print(LCL68_2)\n",
        "print(UCL68_2)"
      ],
      "execution_count": 0,
      "outputs": [
        {
          "output_type": "stream",
          "text": [
            "35423.426191343504\n",
            "39874.573808656496\n"
          ],
          "name": "stdout"
        }
      ]
    },
    {
      "cell_type": "code",
      "metadata": {
        "id": "XSsBrUges9L8",
        "colab_type": "code",
        "outputId": "ca51edba-93c6-4e14-a5f2-c46ca95b5acd",
        "colab": {
          "base_uri": "https://localhost:8080/",
          "height": 50
        }
      },
      "source": [
        "LCL95_2 = College_Mean2 -  2 * SE2\n",
        "UCL95_2 = College_Mean2 +  2 * SE2\n",
        "print(LCL95)\n",
        "print(UCL95)"
      ],
      "execution_count": 0,
      "outputs": [
        {
          "output_type": "stream",
          "text": [
            "33205.032076685195\n",
            "39002.967923314805\n"
          ],
          "name": "stdout"
        }
      ]
    },
    {
      "cell_type": "code",
      "metadata": {
        "id": "KPupI5D1tEMJ",
        "colab_type": "code",
        "outputId": "5e975d75-1deb-4ba9-8976-e396b28e6e41",
        "colab": {
          "base_uri": "https://localhost:8080/",
          "height": 50
        }
      },
      "source": [
        "LCL997_2 = College_Mean2 -  3 * SE2\n",
        "UCL997_2 = College_Mean2 +  3 * SE2\n",
        "print(LCL997_2)\n",
        "print(UCL997_2)"
      ],
      "execution_count": 0,
      "outputs": [
        {
          "output_type": "stream",
          "text": [
            "30972.278574030515\n",
            "44325.72142596949\n"
          ],
          "name": "stdout"
        }
      ]
    },
    {
      "cell_type": "code",
      "metadata": {
        "id": "ltFibaCnvQ2j",
        "colab_type": "code",
        "outputId": "897b8189-81ab-4886-a4a7-d68e653847c9",
        "colab": {
          "base_uri": "https://localhost:8080/",
          "height": 34
        }
      },
      "source": [
        "print(\"The difference between Population Mean and 100 College sample mean is \", College_Mean2 - PM)"
      ],
      "execution_count": 0,
      "outputs": [
        {
          "output_type": "stream",
          "text": [
            "The difference between Population Mean and 100 College sample mean is  1565.7835941716112\n"
          ],
          "name": "stdout"
        }
      ]
    },
    {
      "cell_type": "code",
      "metadata": {
        "id": "O2CIxX4QtzuS",
        "colab_type": "code",
        "outputId": "b8bd1d5a-00a6-4cf5-af4c-81e05a0ecbe6",
        "colab": {
          "base_uri": "https://localhost:8080/",
          "height": 67
        }
      },
      "source": [
        "print(\"Population Mean = \", PM)\n",
        "print(\"50 College sample mean = \", College_Mean)\n",
        "print(\"100 College sample mean = \", College_Mean2)"
      ],
      "execution_count": 0,
      "outputs": [
        {
          "output_type": "stream",
          "text": [
            "Population Mean =  36083.21640582839\n",
            "50 College sample mean =  36104.0\n",
            "100 College sample mean =  37649.0\n"
          ],
          "name": "stdout"
        }
      ]
    },
    {
      "cell_type": "code",
      "metadata": {
        "id": "c0oRobptvQTe",
        "colab_type": "code",
        "colab": {}
      },
      "source": [
        ""
      ],
      "execution_count": 0,
      "outputs": []
    },
    {
      "cell_type": "markdown",
      "metadata": {
        "id": "ILeruwLK0Aku",
        "colab_type": "text"
      },
      "source": [
        "The College mean for 100 schools was further away from the population mean then the 50 college sample mean. Both sample means were within confidence intervals."
      ]
    }
  ]
}