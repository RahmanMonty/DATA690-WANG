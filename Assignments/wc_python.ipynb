{
  "nbformat": 4,
  "nbformat_minor": 0,
  "metadata": {
    "colab": {
      "name": "wc_python.ipynb",
      "provenance": []
    },
    "kernelspec": {
      "name": "python3",
      "display_name": "Python 3"
    }
  },
  "cells": [
    {
      "cell_type": "markdown",
      "metadata": {
        "id": "LqcWB01Q5rMQ",
        "colab_type": "text"
      },
      "source": [
        "# Simple Word Count Using Python"
      ]
    },
    {
      "cell_type": "code",
      "metadata": {
        "id": "ljZALxeY4qud",
        "colab_type": "code",
        "outputId": "bac52a94-19de-45b1-b092-375590596ea5",
        "colab": {
          "base_uri": "https://localhost:8080/",
          "height": 34
        }
      },
      "source": [
        "hamlet_lines = [\"To be or\", \"not to be\"]\n",
        "\n",
        "hamlet_words = []\n",
        "\n",
        "for line in hamlet_lines:\n",
        "    words = line.lower().split(\" \")\n",
        "    hamlet_words.append(words)\n",
        "\n",
        "hamlet_words\n",
        "#"
      ],
      "execution_count": 0,
      "outputs": [
        {
          "output_type": "execute_result",
          "data": {
            "text/plain": [
              "[['to', 'be', 'or'], ['not', 'to', 'be']]"
            ]
          },
          "metadata": {
            "tags": []
          },
          "execution_count": 14
        }
      ]
    },
    {
      "cell_type": "code",
      "metadata": {
        "id": "ydVfPg7M6rCM",
        "colab_type": "code",
        "outputId": "785e4423-3a16-4171-ef91-9b100647a297",
        "colab": {
          "base_uri": "https://localhost:8080/",
          "height": 34
        }
      },
      "source": [
        "hamlet_words2 = []\n",
        "\n",
        "for x in hamlet_words:\n",
        "    for word in x:\n",
        "        hamlet_words2.append(word)\n",
        "hamlet_words2\n"
      ],
      "execution_count": 0,
      "outputs": [
        {
          "output_type": "execute_result",
          "data": {
            "text/plain": [
              "['to', 'be', 'or', 'not', 'to', 'be']"
            ]
          },
          "metadata": {
            "tags": []
          },
          "execution_count": 15
        }
      ]
    },
    {
      "cell_type": "code",
      "metadata": {
        "id": "TX1AN2IM9ERF",
        "colab_type": "code",
        "outputId": "11c32e2d-baf9-4aa3-b9f9-4a599b9f3da6",
        "colab": {
          "base_uri": "https://localhost:8080/",
          "height": 34
        }
      },
      "source": [
        "word_count_dict = {}\n",
        "\n",
        "for word in hamlet_words2:\n",
        "    if word in word_count_dict.keys():\n",
        "        word_count_dict[word] += 1     #increase value by 1\n",
        "    else:\n",
        "        word_count_dict[word] = 1 #add a new key value pair\n",
        "word_count_dict"
      ],
      "execution_count": 0,
      "outputs": [
        {
          "output_type": "execute_result",
          "data": {
            "text/plain": [
              "{'be': 2, 'not': 1, 'or': 1, 'to': 2}"
            ]
          },
          "metadata": {
            "tags": []
          },
          "execution_count": 16
        }
      ]
    },
    {
      "cell_type": "code",
      "metadata": {
        "id": "z0EPDuEG8zIW",
        "colab_type": "code",
        "outputId": "ee1fc2ba-b633-4476-d9ef-f3057c5967e7",
        "colab": {
          "base_uri": "https://localhost:8080/",
          "height": 34
        }
      },
      "source": [
        "word_count = {\"to\": 2,\n",
        "              \"be\": 2,\n",
        "              \"or\": 1,\n",
        "              \"not\": 1\n",
        "}\n",
        "word_count.keys()"
      ],
      "execution_count": 0,
      "outputs": [
        {
          "output_type": "execute_result",
          "data": {
            "text/plain": [
              "dict_keys(['to', 'be', 'or', 'not'])"
            ]
          },
          "metadata": {
            "tags": []
          },
          "execution_count": 17
        }
      ]
    }
  ]
}