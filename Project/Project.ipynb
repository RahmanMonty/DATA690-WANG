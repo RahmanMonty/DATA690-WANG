{
  "nbformat": 4,
  "nbformat_minor": 0,
  "metadata": {
    "colab": {
      "name": "Project.ipynb",
      "provenance": [],
      "collapsed_sections": [],
      "toc_visible": true,
      "authorship_tag": "ABX9TyOC2F0Qq4itAWxe4QjHivtK",
      "include_colab_link": true
    },
    "kernelspec": {
      "name": "python3",
      "display_name": "Python 3"
    }
  },
  "cells": [
    {
      "cell_type": "markdown",
      "metadata": {
        "id": "view-in-github",
        "colab_type": "text"
      },
      "source": [
        "<a href=\"https://colab.research.google.com/github/RahmanMonty/DATA690-WANG/blob/master/Project/Project.ipynb\" target=\"_parent\"><img src=\"https://colab.research.google.com/assets/colab-badge.svg\" alt=\"Open In Colab\"/></a>"
      ]
    },
    {
      "cell_type": "markdown",
      "metadata": {
        "id": "xf6lNRHYHQDB",
        "colab_type": "text"
      },
      "source": [
        "### Comparison of the wealthiest and poorest median household income nations\n",
        "##### 1 Why is this issue important: To give an insight on the significance of the difference between a nations over all wealth and the actual wealth of the population mean and to find and determine if such discrepancies/ or not there of; are a common trend among all developed nations.\n",
        "\n",
        "##### 2 What questions will I try to answer: After identifying the nations to be considered in the analysis. Wealth data from each nation; to include average income, median income, and wealth status ranking to see if there is a similarity. Identifying the correlation (if any) of the difference between mean and median income numbers and wealth ranking.\n",
        "\n",
        "##### 3 Where will I get the data: data.gov for domestic numbers. A global data wealth book pdf published annually by Credit Suisse Research Institute. \n",
        "\n",
        "##### 4 Unit of analysis: Countries\n",
        "\n",
        "##### 5 Variables/Measures that will be used: Nations median income, mean income, and world ranking. \n",
        "\n",
        "##### 6 Techniques: I will use summary statistics and graphical representations."
      ]
    },
    {
      "cell_type": "markdown",
      "metadata": {
        "id": "B6M5Pv38HzE5",
        "colab_type": "text"
      },
      "source": [
        "##### Different Python Libraries that will be used"
      ]
    },
    {
      "cell_type": "code",
      "metadata": {
        "id": "_EU5GQImGGBv",
        "colab_type": "code",
        "outputId": "a55e2865-eb9a-4267-860b-3f91b3749dc1",
        "colab": {
          "base_uri": "https://localhost:8080/",
          "height": 70
        }
      },
      "source": [
        "import matplotlib.pyplot as plt\n",
        "import pandas as pd\n",
        "import seaborn as sns ; sns.set()\n",
        "import plotly.graph_objects as go\n",
        "import plotly.express as px\n",
        "import numpy as np\n",
        "import altair as alt"
      ],
      "execution_count": 0,
      "outputs": [
        {
          "output_type": "stream",
          "text": [
            "/usr/local/lib/python3.6/dist-packages/statsmodels/tools/_testing.py:19: FutureWarning: pandas.util.testing is deprecated. Use the functions in the public API at pandas.testing instead.\n",
            "  import pandas.util.testing as tm\n"
          ],
          "name": "stderr"
        }
      ]
    },
    {
      "cell_type": "code",
      "metadata": {
        "id": "dlj3YPb8GFN9",
        "colab_type": "code",
        "colab": {}
      },
      "source": [
        "df = pd.read_csv(\"data.csv\")"
      ],
      "execution_count": 0,
      "outputs": []
    },
    {
      "cell_type": "code",
      "metadata": {
        "id": "ToW2vbG3IUpb",
        "colab_type": "code",
        "outputId": "c1979cef-2326-4f66-d487-3f6e6657ce88",
        "colab": {
          "base_uri": "https://localhost:8080/",
          "height": 252
        }
      },
      "source": [
        "df.info"
      ],
      "execution_count": 0,
      "outputs": [
        {
          "output_type": "execute_result",
          "data": {
            "text/plain": [
              "<bound method DataFrame.info of            name  medianHouseholdIncome  medianPerCapitaIncome    pop2019\n",
              "0    Luxembourg                  52493                  18418    615.729\n",
              "1        Norway                  51489                  19308   5378.857\n",
              "2        Sweden                  50514                  18632  10036.379\n",
              "3     Australia                  46555                  15026  25203.198\n",
              "4       Denmark                  44360                  18262   5771.876\n",
              "..          ...                    ...                    ...        ...\n",
              "119      Rwanda                   1101                    235  12626.950\n",
              "120  Madagascar                   1013                    205  26969.307\n",
              "121     Liberia                    781                    118   4937.374\n",
              "122     Burundi                    673                    129  11530.580\n",
              "123        Togo                    571                    279   8082.366\n",
              "\n",
              "[124 rows x 4 columns]>"
            ]
          },
          "metadata": {
            "tags": []
          },
          "execution_count": 9
        }
      ]
    },
    {
      "cell_type": "markdown",
      "metadata": {
        "id": "Cj-qycp7Iccv",
        "colab_type": "text"
      },
      "source": [
        "###### First, a look at random sample from the data is observed"
      ]
    },
    {
      "cell_type": "code",
      "metadata": {
        "id": "_iI802-2Iba4",
        "colab_type": "code",
        "outputId": "2c85f0f8-66f6-49b3-8aae-0db61c1632d0",
        "colab": {
          "base_uri": "https://localhost:8080/",
          "height": 343
        }
      },
      "source": [
        "df.sample(10)"
      ],
      "execution_count": 0,
      "outputs": [
        {
          "output_type": "execute_result",
          "data": {
            "text/html": [
              "<div>\n",
              "<style scoped>\n",
              "    .dataframe tbody tr th:only-of-type {\n",
              "        vertical-align: middle;\n",
              "    }\n",
              "\n",
              "    .dataframe tbody tr th {\n",
              "        vertical-align: top;\n",
              "    }\n",
              "\n",
              "    .dataframe thead th {\n",
              "        text-align: right;\n",
              "    }\n",
              "</style>\n",
              "<table border=\"1\" class=\"dataframe\">\n",
              "  <thead>\n",
              "    <tr style=\"text-align: right;\">\n",
              "      <th></th>\n",
              "      <th>name</th>\n",
              "      <th>medianHouseholdIncome</th>\n",
              "      <th>medianPerCapitaIncome</th>\n",
              "      <th>pop2019</th>\n",
              "    </tr>\n",
              "  </thead>\n",
              "  <tbody>\n",
              "    <tr>\n",
              "      <th>121</th>\n",
              "      <td>Liberia</td>\n",
              "      <td>781</td>\n",
              "      <td>118</td>\n",
              "      <td>4937.374</td>\n",
              "    </tr>\n",
              "    <tr>\n",
              "      <th>0</th>\n",
              "      <td>Luxembourg</td>\n",
              "      <td>52493</td>\n",
              "      <td>18418</td>\n",
              "      <td>615.729</td>\n",
              "    </tr>\n",
              "    <tr>\n",
              "      <th>5</th>\n",
              "      <td>United States</td>\n",
              "      <td>43585</td>\n",
              "      <td>15480</td>\n",
              "      <td>329064.917</td>\n",
              "    </tr>\n",
              "    <tr>\n",
              "      <th>41</th>\n",
              "      <td>Lithuania</td>\n",
              "      <td>12375</td>\n",
              "      <td>4719</td>\n",
              "      <td>2759.627</td>\n",
              "    </tr>\n",
              "    <tr>\n",
              "      <th>81</th>\n",
              "      <td>Vietnam</td>\n",
              "      <td>4783</td>\n",
              "      <td>1124</td>\n",
              "      <td>96462.106</td>\n",
              "    </tr>\n",
              "    <tr>\n",
              "      <th>67</th>\n",
              "      <td>Mauritania</td>\n",
              "      <td>6679</td>\n",
              "      <td>778</td>\n",
              "      <td>4525.696</td>\n",
              "    </tr>\n",
              "    <tr>\n",
              "      <th>73</th>\n",
              "      <td>China</td>\n",
              "      <td>6180</td>\n",
              "      <td>1786</td>\n",
              "      <td>1433783.686</td>\n",
              "    </tr>\n",
              "    <tr>\n",
              "      <th>108</th>\n",
              "      <td>Indonesia</td>\n",
              "      <td>2199</td>\n",
              "      <td>541</td>\n",
              "      <td>270625.568</td>\n",
              "    </tr>\n",
              "    <tr>\n",
              "      <th>37</th>\n",
              "      <td>Argentina</td>\n",
              "      <td>14432</td>\n",
              "      <td>4109</td>\n",
              "      <td>44780.677</td>\n",
              "    </tr>\n",
              "    <tr>\n",
              "      <th>119</th>\n",
              "      <td>Rwanda</td>\n",
              "      <td>1101</td>\n",
              "      <td>235</td>\n",
              "      <td>12626.950</td>\n",
              "    </tr>\n",
              "  </tbody>\n",
              "</table>\n",
              "</div>"
            ],
            "text/plain": [
              "              name  medianHouseholdIncome  medianPerCapitaIncome      pop2019\n",
              "121        Liberia                    781                    118     4937.374\n",
              "0       Luxembourg                  52493                  18418      615.729\n",
              "5    United States                  43585                  15480   329064.917\n",
              "41       Lithuania                  12375                   4719     2759.627\n",
              "81         Vietnam                   4783                   1124    96462.106\n",
              "67      Mauritania                   6679                    778     4525.696\n",
              "73           China                   6180                   1786  1433783.686\n",
              "108      Indonesia                   2199                    541   270625.568\n",
              "37       Argentina                  14432                   4109    44780.677\n",
              "119         Rwanda                   1101                    235    12626.950"
            ]
          },
          "metadata": {
            "tags": []
          },
          "execution_count": 5
        }
      ]
    },
    {
      "cell_type": "markdown",
      "metadata": {
        "id": "pC6nE0YhJGT0",
        "colab_type": "text"
      },
      "source": [
        "#### The organization of the data starts here\n",
        "- Determining and setting to a variable which nations have the highest and lowest median per capita income"
      ]
    },
    {
      "cell_type": "code",
      "metadata": {
        "id": "PaElGfzrJDQq",
        "colab_type": "code",
        "outputId": "a1a3d478-8816-4376-8b6b-c8015463e9d9",
        "colab": {
          "base_uri": "https://localhost:8080/",
          "height": 343
        }
      },
      "source": [
        "rich = df.nlargest(10, \"medianHouseholdIncome\")\n",
        "rich"
      ],
      "execution_count": 0,
      "outputs": [
        {
          "output_type": "execute_result",
          "data": {
            "text/html": [
              "<div>\n",
              "<style scoped>\n",
              "    .dataframe tbody tr th:only-of-type {\n",
              "        vertical-align: middle;\n",
              "    }\n",
              "\n",
              "    .dataframe tbody tr th {\n",
              "        vertical-align: top;\n",
              "    }\n",
              "\n",
              "    .dataframe thead th {\n",
              "        text-align: right;\n",
              "    }\n",
              "</style>\n",
              "<table border=\"1\" class=\"dataframe\">\n",
              "  <thead>\n",
              "    <tr style=\"text-align: right;\">\n",
              "      <th></th>\n",
              "      <th>name</th>\n",
              "      <th>medianHouseholdIncome</th>\n",
              "      <th>medianPerCapitaIncome</th>\n",
              "      <th>pop2019</th>\n",
              "    </tr>\n",
              "  </thead>\n",
              "  <tbody>\n",
              "    <tr>\n",
              "      <th>0</th>\n",
              "      <td>Luxembourg</td>\n",
              "      <td>52493</td>\n",
              "      <td>18418</td>\n",
              "      <td>615.729</td>\n",
              "    </tr>\n",
              "    <tr>\n",
              "      <th>1</th>\n",
              "      <td>Norway</td>\n",
              "      <td>51489</td>\n",
              "      <td>19308</td>\n",
              "      <td>5378.857</td>\n",
              "    </tr>\n",
              "    <tr>\n",
              "      <th>2</th>\n",
              "      <td>Sweden</td>\n",
              "      <td>50514</td>\n",
              "      <td>18632</td>\n",
              "      <td>10036.379</td>\n",
              "    </tr>\n",
              "    <tr>\n",
              "      <th>3</th>\n",
              "      <td>Australia</td>\n",
              "      <td>46555</td>\n",
              "      <td>15026</td>\n",
              "      <td>25203.198</td>\n",
              "    </tr>\n",
              "    <tr>\n",
              "      <th>4</th>\n",
              "      <td>Denmark</td>\n",
              "      <td>44360</td>\n",
              "      <td>18262</td>\n",
              "      <td>5771.876</td>\n",
              "    </tr>\n",
              "    <tr>\n",
              "      <th>5</th>\n",
              "      <td>United States</td>\n",
              "      <td>43585</td>\n",
              "      <td>15480</td>\n",
              "      <td>329064.917</td>\n",
              "    </tr>\n",
              "    <tr>\n",
              "      <th>6</th>\n",
              "      <td>Canada</td>\n",
              "      <td>41280</td>\n",
              "      <td>15181</td>\n",
              "      <td>37411.047</td>\n",
              "    </tr>\n",
              "    <tr>\n",
              "      <th>7</th>\n",
              "      <td>South Korea</td>\n",
              "      <td>40861</td>\n",
              "      <td>11950</td>\n",
              "      <td>51225.308</td>\n",
              "    </tr>\n",
              "    <tr>\n",
              "      <th>8</th>\n",
              "      <td>Kuwait</td>\n",
              "      <td>40854</td>\n",
              "      <td>7487</td>\n",
              "      <td>4207.083</td>\n",
              "    </tr>\n",
              "    <tr>\n",
              "      <th>9</th>\n",
              "      <td>Netherlands</td>\n",
              "      <td>38584</td>\n",
              "      <td>14450</td>\n",
              "      <td>17097.130</td>\n",
              "    </tr>\n",
              "  </tbody>\n",
              "</table>\n",
              "</div>"
            ],
            "text/plain": [
              "            name  medianHouseholdIncome  medianPerCapitaIncome     pop2019\n",
              "0     Luxembourg                  52493                  18418     615.729\n",
              "1         Norway                  51489                  19308    5378.857\n",
              "2         Sweden                  50514                  18632   10036.379\n",
              "3      Australia                  46555                  15026   25203.198\n",
              "4        Denmark                  44360                  18262    5771.876\n",
              "5  United States                  43585                  15480  329064.917\n",
              "6         Canada                  41280                  15181   37411.047\n",
              "7    South Korea                  40861                  11950   51225.308\n",
              "8         Kuwait                  40854                   7487    4207.083\n",
              "9    Netherlands                  38584                  14450   17097.130"
            ]
          },
          "metadata": {
            "tags": []
          },
          "execution_count": 6
        }
      ]
    },
    {
      "cell_type": "code",
      "metadata": {
        "id": "vd0ooFCiJhve",
        "colab_type": "code",
        "outputId": "ba221a0b-4794-4386-b99d-cb9cd6c6e2c4",
        "colab": {
          "base_uri": "https://localhost:8080/",
          "height": 343
        }
      },
      "source": [
        "poor = df.nsmallest(10, \"medianHouseholdIncome\")\n",
        "poor"
      ],
      "execution_count": 0,
      "outputs": [
        {
          "output_type": "execute_result",
          "data": {
            "text/html": [
              "<div>\n",
              "<style scoped>\n",
              "    .dataframe tbody tr th:only-of-type {\n",
              "        vertical-align: middle;\n",
              "    }\n",
              "\n",
              "    .dataframe tbody tr th {\n",
              "        vertical-align: top;\n",
              "    }\n",
              "\n",
              "    .dataframe thead th {\n",
              "        text-align: right;\n",
              "    }\n",
              "</style>\n",
              "<table border=\"1\" class=\"dataframe\">\n",
              "  <thead>\n",
              "    <tr style=\"text-align: right;\">\n",
              "      <th></th>\n",
              "      <th>name</th>\n",
              "      <th>medianHouseholdIncome</th>\n",
              "      <th>medianPerCapitaIncome</th>\n",
              "      <th>pop2019</th>\n",
              "    </tr>\n",
              "  </thead>\n",
              "  <tbody>\n",
              "    <tr>\n",
              "      <th>123</th>\n",
              "      <td>Togo</td>\n",
              "      <td>571</td>\n",
              "      <td>279</td>\n",
              "      <td>8082.366</td>\n",
              "    </tr>\n",
              "    <tr>\n",
              "      <th>122</th>\n",
              "      <td>Burundi</td>\n",
              "      <td>673</td>\n",
              "      <td>129</td>\n",
              "      <td>11530.580</td>\n",
              "    </tr>\n",
              "    <tr>\n",
              "      <th>121</th>\n",
              "      <td>Liberia</td>\n",
              "      <td>781</td>\n",
              "      <td>118</td>\n",
              "      <td>4937.374</td>\n",
              "    </tr>\n",
              "    <tr>\n",
              "      <th>120</th>\n",
              "      <td>Madagascar</td>\n",
              "      <td>1013</td>\n",
              "      <td>205</td>\n",
              "      <td>26969.307</td>\n",
              "    </tr>\n",
              "    <tr>\n",
              "      <th>119</th>\n",
              "      <td>Rwanda</td>\n",
              "      <td>1101</td>\n",
              "      <td>235</td>\n",
              "      <td>12626.950</td>\n",
              "    </tr>\n",
              "    <tr>\n",
              "      <th>118</th>\n",
              "      <td>Zambia</td>\n",
              "      <td>1501</td>\n",
              "      <td>287</td>\n",
              "      <td>17861.030</td>\n",
              "    </tr>\n",
              "    <tr>\n",
              "      <th>117</th>\n",
              "      <td>Benin</td>\n",
              "      <td>1502</td>\n",
              "      <td>237</td>\n",
              "      <td>11801.151</td>\n",
              "    </tr>\n",
              "    <tr>\n",
              "      <th>116</th>\n",
              "      <td>Burkina Faso</td>\n",
              "      <td>1530</td>\n",
              "      <td>168</td>\n",
              "      <td>20321.378</td>\n",
              "    </tr>\n",
              "    <tr>\n",
              "      <th>115</th>\n",
              "      <td>Uganda</td>\n",
              "      <td>1775</td>\n",
              "      <td>296</td>\n",
              "      <td>44269.594</td>\n",
              "    </tr>\n",
              "    <tr>\n",
              "      <th>114</th>\n",
              "      <td>Kenya</td>\n",
              "      <td>1870</td>\n",
              "      <td>402</td>\n",
              "      <td>52573.973</td>\n",
              "    </tr>\n",
              "  </tbody>\n",
              "</table>\n",
              "</div>"
            ],
            "text/plain": [
              "             name  medianHouseholdIncome  medianPerCapitaIncome    pop2019\n",
              "123          Togo                    571                    279   8082.366\n",
              "122       Burundi                    673                    129  11530.580\n",
              "121       Liberia                    781                    118   4937.374\n",
              "120    Madagascar                   1013                    205  26969.307\n",
              "119        Rwanda                   1101                    235  12626.950\n",
              "118        Zambia                   1501                    287  17861.030\n",
              "117         Benin                   1502                    237  11801.151\n",
              "116  Burkina Faso                   1530                    168  20321.378\n",
              "115        Uganda                   1775                    296  44269.594\n",
              "114         Kenya                   1870                    402  52573.973"
            ]
          },
          "metadata": {
            "tags": []
          },
          "execution_count": 7
        }
      ]
    },
    {
      "cell_type": "markdown",
      "metadata": {
        "id": "LNxg9VjdeHWi",
        "colab_type": "text"
      },
      "source": [
        "#### Once we have definied the richest and poorest median household income nations (\"rich\" and \"poor\") we can then graph them independently to get a more detailed look at their data."
      ]
    },
    {
      "cell_type": "code",
      "metadata": {
        "id": "3UJ632A7JyFq",
        "colab_type": "code",
        "outputId": "c5d470d4-f660-4ace-bc86-ba7e42afb5aa",
        "colab": {
          "base_uri": "https://localhost:8080/",
          "height": 628
        }
      },
      "source": [
        "ax = sns.scatterplot(x = \"medianHouseholdIncome\", y = \"pop2019\", data = rich, s= 90, hue = \"name\" )\n",
        "plt.rcParams[\"figure.figsize\"] = (10,10)\n",
        "ax"
      ],
      "execution_count": 0,
      "outputs": [
        {
          "output_type": "execute_result",
          "data": {
            "text/plain": [
              "<matplotlib.axes._subplots.AxesSubplot at 0x7f9df7dc99e8>"
            ]
          },
          "metadata": {
            "tags": []
          },
          "execution_count": 11
        },
        {
          "output_type": "display_data",
          "data": {
            "image/png": "[encoded data removed]",
            "text/plain": [
              "<Figure size 720x720 with 1 Axes>"
            ]
          },
          "metadata": {
            "tags": []
          }
        }
      ]
    },
    {
      "cell_type": "code",
      "metadata": {
        "id": "V9ceaxT-KAUB",
        "colab_type": "code",
        "colab": {}
      },
      "source": [
        "ay = sns.scatterplot(x = \"medianHouseholdIncome\", y = \"pop2019\", data = poor, s=90, hue = \"name\" )\n",
        "plt.rcParams[\"figure.figsize\"] = (7,7)\n",
        "ay"
      ],
      "execution_count": 0,
      "outputs": []
    },
    {
      "cell_type": "code",
      "metadata": {
        "id": "ANhhFPUyMNLH",
        "colab_type": "code",
        "outputId": "486ec7fe-4c2e-49bc-cc1e-d97b78560c59",
        "colab": {
          "base_uri": "https://localhost:8080/",
          "height": 368
        }
      },
      "source": [
        "source = rich\n",
        "\n",
        "alt.Chart(rich).mark_bar().encode(\n",
        "    alt.X(\"medianHouseholdIncome\"),\n",
        "    y='pop2019',\n",
        "    color = \"name\",\n",
        "    )"
      ],
      "execution_count": 0,
      "outputs": [
        {
          "output_type": "execute_result",
          "data": {
            "text/plain": [
              "alt.Chart(...)"
            ],
            "text/html": [
              "\n",
              "<div id=\"altair-viz-7141bd89ef854b87980f63147409a4c9\"></div>\n",
              "<script type=\"text/javascript\">\n",
              "  (function(spec, embedOpt){\n",
              "    let outputDiv = document.currentScript.previousElementSibling;\n",
              "    if (outputDiv.id !== \"altair-viz-7141bd89ef854b87980f63147409a4c9\") {\n",
              "      outputDiv = document.getElementById(\"altair-viz-7141bd89ef854b87980f63147409a4c9\");\n",
              "    }\n",
              "    const paths = {\n",
              "      \"vega\": \"https://cdn.jsdelivr.net/npm//vega@5?noext\",\n",
              "      \"vega-lib\": \"https://cdn.jsdelivr.net/npm//vega-lib?noext\",\n",
              "      \"vega-lite\": \"https://cdn.jsdelivr.net/npm//vega-lite@4.8.1?noext\",\n",
              "      \"vega-embed\": \"https://cdn.jsdelivr.net/npm//vega-embed@6?noext\",\n",
              "    };\n",
              "\n",
              "    function loadScript(lib) {\n",
              "      return new Promise(function(resolve, reject) {\n",
              "        var s = document.createElement('script');\n",
              "        s.src = paths[lib];\n",
              "        s.async = true;\n",
              "        s.onload = () => resolve(paths[lib]);\n",
              "        s.onerror = () => reject(`Error loading script: ${paths[lib]}`);\n",
              "        document.getElementsByTagName(\"head\")[0].appendChild(s);\n",
              "      });\n",
              "    }\n",
              "\n",
              "    function showError(err) {\n",
              "      outputDiv.innerHTML = `<div class=\"error\" style=\"color:red;\">${err}</div>`;\n",
              "      throw err;\n",
              "    }\n",
              "\n",
              "    function displayChart(vegaEmbed) {\n",
              "      vegaEmbed(outputDiv, spec, embedOpt)\n",
              "        .catch(err => showError(`Javascript Error: ${err.message}<br>This usually means there's a typo in your chart specification. See the javascript console for the full traceback.`));\n",
              "    }\n",
              "\n",
              "    if(typeof define === \"function\" && define.amd) {\n",
              "      requirejs.config({paths});\n",
              "      require([\"vega-embed\"], displayChart, err => showError(`Error loading script: ${err.message}`));\n",
              "    } else if (typeof vegaEmbed === \"function\") {\n",
              "      displayChart(vegaEmbed);\n",
              "    } else {\n",
              "      loadScript(\"vega\")\n",
              "        .then(() => loadScript(\"vega-lite\"))\n",
              "        .then(() => loadScript(\"vega-embed\"))\n",
              "        .catch(showError)\n",
              "        .then(() => displayChart(vegaEmbed));\n",
              "    }\n",
              "  })({\"config\": {\"view\": {\"continuousWidth\": 400, \"continuousHeight\": 300}}, \"data\": {\"name\": \"data-b2191c6e4d8961874d1d2334fa0570dc\"}, \"mark\": \"bar\", \"encoding\": {\"color\": {\"type\": \"nominal\", \"field\": \"name\"}, \"x\": {\"type\": \"quantitative\", \"field\": \"medianHouseholdIncome\"}, \"y\": {\"type\": \"quantitative\", \"field\": \"pop2019\"}}, \"$schema\": \"https://vega.github.io/schema/vega-lite/v4.8.1.json\", \"datasets\": {\"data-b2191c6e4d8961874d1d2334fa0570dc\": [{\"name\": \"Luxembourg\", \"medianHouseholdIncome\": 52493, \"medianPerCapitaIncome\": 18418, \"pop2019\": 615.729}, {\"name\": \"Norway\", \"medianHouseholdIncome\": 51489, \"medianPerCapitaIncome\": 19308, \"pop2019\": 5378.857}, {\"name\": \"Sweden\", \"medianHouseholdIncome\": 50514, \"medianPerCapitaIncome\": 18632, \"pop2019\": 10036.379}, {\"name\": \"Australia\", \"medianHouseholdIncome\": 46555, \"medianPerCapitaIncome\": 15026, \"pop2019\": 25203.198}, {\"name\": \"Denmark\", \"medianHouseholdIncome\": 44360, \"medianPerCapitaIncome\": 18262, \"pop2019\": 5771.876}, {\"name\": \"United States\", \"medianHouseholdIncome\": 43585, \"medianPerCapitaIncome\": 15480, \"pop2019\": 329064.917}, {\"name\": \"Canada\", \"medianHouseholdIncome\": 41280, \"medianPerCapitaIncome\": 15181, \"pop2019\": 37411.047}, {\"name\": \"South Korea\", \"medianHouseholdIncome\": 40861, \"medianPerCapitaIncome\": 11950, \"pop2019\": 51225.308}, {\"name\": \"Kuwait\", \"medianHouseholdIncome\": 40854, \"medianPerCapitaIncome\": 7487, \"pop2019\": 4207.083}, {\"name\": \"Netherlands\", \"medianHouseholdIncome\": 38584, \"medianPerCapitaIncome\": 14450, \"pop2019\": 17097.13}]}}, {\"mode\": \"vega-lite\"});\n",
              "</script>"
            ]
          },
          "metadata": {
            "tags": []
          },
          "execution_count": 15
        }
      ]
    },
    {
      "cell_type": "code",
      "metadata": {
        "id": "qwiEWcRFepfb",
        "colab_type": "code",
        "outputId": "2aacea17-c0cf-4406-c404-5d4f5d628eb4",
        "colab": {
          "base_uri": "https://localhost:8080/",
          "height": 368
        }
      },
      "source": [
        "source = poor\n",
        "\n",
        "alt.Chart(poor).mark_bar().encode(\n",
        "    alt.X(\"medianHouseholdIncome\"),\n",
        "    y='pop2019',\n",
        "    color = \"name\"\n",
        "    )"
      ],
      "execution_count": 0,
      "outputs": [
        {
          "output_type": "execute_result",
          "data": {
            "text/plain": [
              "alt.Chart(...)"
            ],
            "text/html": [
              "\n",
              "<div id=\"altair-viz-1f93e7201da74b87a3229d0d26b60ae7\"></div>\n",
              "<script type=\"text/javascript\">\n",
              "  (function(spec, embedOpt){\n",
              "    let outputDiv = document.currentScript.previousElementSibling;\n",
              "    if (outputDiv.id !== \"altair-viz-1f93e7201da74b87a3229d0d26b60ae7\") {\n",
              "      outputDiv = document.getElementById(\"altair-viz-1f93e7201da74b87a3229d0d26b60ae7\");\n",
              "    }\n",
              "    const paths = {\n",
              "      \"vega\": \"https://cdn.jsdelivr.net/npm//vega@5?noext\",\n",
              "      \"vega-lib\": \"https://cdn.jsdelivr.net/npm//vega-lib?noext\",\n",
              "      \"vega-lite\": \"https://cdn.jsdelivr.net/npm//vega-lite@4.8.1?noext\",\n",
              "      \"vega-embed\": \"https://cdn.jsdelivr.net/npm//vega-embed@6?noext\",\n",
              "    };\n",
              "\n",
              "    function loadScript(lib) {\n",
              "      return new Promise(function(resolve, reject) {\n",
              "        var s = document.createElement('script');\n",
              "        s.src = paths[lib];\n",
              "        s.async = true;\n",
              "        s.onload = () => resolve(paths[lib]);\n",
              "        s.onerror = () => reject(`Error loading script: ${paths[lib]}`);\n",
              "        document.getElementsByTagName(\"head\")[0].appendChild(s);\n",
              "      });\n",
              "    }\n",
              "\n",
              "    function showError(err) {\n",
              "      outputDiv.innerHTML = `<div class=\"error\" style=\"color:red;\">${err}</div>`;\n",
              "      throw err;\n",
              "    }\n",
              "\n",
              "    function displayChart(vegaEmbed) {\n",
              "      vegaEmbed(outputDiv, spec, embedOpt)\n",
              "        .catch(err => showError(`Javascript Error: ${err.message}<br>This usually means there's a typo in your chart specification. See the javascript console for the full traceback.`));\n",
              "    }\n",
              "\n",
              "    if(typeof define === \"function\" && define.amd) {\n",
              "      requirejs.config({paths});\n",
              "      require([\"vega-embed\"], displayChart, err => showError(`Error loading script: ${err.message}`));\n",
              "    } else if (typeof vegaEmbed === \"function\") {\n",
              "      displayChart(vegaEmbed);\n",
              "    } else {\n",
              "      loadScript(\"vega\")\n",
              "        .then(() => loadScript(\"vega-lite\"))\n",
              "        .then(() => loadScript(\"vega-embed\"))\n",
              "        .catch(showError)\n",
              "        .then(() => displayChart(vegaEmbed));\n",
              "    }\n",
              "  })({\"config\": {\"view\": {\"continuousWidth\": 400, \"continuousHeight\": 300}}, \"data\": {\"name\": \"data-d5aaf8a0264d22d3b22d4cb2a3a18c08\"}, \"mark\": \"bar\", \"encoding\": {\"color\": {\"type\": \"nominal\", \"field\": \"name\"}, \"x\": {\"type\": \"quantitative\", \"field\": \"medianHouseholdIncome\"}, \"y\": {\"type\": \"quantitative\", \"field\": \"pop2019\"}}, \"$schema\": \"https://vega.github.io/schema/vega-lite/v4.8.1.json\", \"datasets\": {\"data-d5aaf8a0264d22d3b22d4cb2a3a18c08\": [{\"name\": \"Togo\", \"medianHouseholdIncome\": 571, \"medianPerCapitaIncome\": 279, \"pop2019\": 8082.366}, {\"name\": \"Burundi\", \"medianHouseholdIncome\": 673, \"medianPerCapitaIncome\": 129, \"pop2019\": 11530.58}, {\"name\": \"Liberia\", \"medianHouseholdIncome\": 781, \"medianPerCapitaIncome\": 118, \"pop2019\": 4937.374}, {\"name\": \"Madagascar\", \"medianHouseholdIncome\": 1013, \"medianPerCapitaIncome\": 205, \"pop2019\": 26969.307}, {\"name\": \"Rwanda\", \"medianHouseholdIncome\": 1101, \"medianPerCapitaIncome\": 235, \"pop2019\": 12626.95}, {\"name\": \"Zambia\", \"medianHouseholdIncome\": 1501, \"medianPerCapitaIncome\": 287, \"pop2019\": 17861.03}, {\"name\": \"Benin\", \"medianHouseholdIncome\": 1502, \"medianPerCapitaIncome\": 237, \"pop2019\": 11801.151}, {\"name\": \"Burkina Faso\", \"medianHouseholdIncome\": 1530, \"medianPerCapitaIncome\": 168, \"pop2019\": 20321.378}, {\"name\": \"Uganda\", \"medianHouseholdIncome\": 1775, \"medianPerCapitaIncome\": 296, \"pop2019\": 44269.594}, {\"name\": \"Kenya\", \"medianHouseholdIncome\": 1870, \"medianPerCapitaIncome\": 402, \"pop2019\": 52573.973}]}}, {\"mode\": \"vega-lite\"});\n",
              "</script>"
            ]
          },
          "metadata": {
            "tags": []
          },
          "execution_count": 16
        }
      ]
    },
    {
      "cell_type": "markdown",
      "metadata": {
        "id": "94LECrIHSyc_",
        "colab_type": "text"
      },
      "source": [
        "#### Below are interactive graphs that can be used to show the average median household income of the richest and poorest datasets selected nations."
      ]
    },
    {
      "cell_type": "code",
      "metadata": {
        "id": "7Y4b2LvVONvg",
        "colab_type": "code",
        "outputId": "896fd546-d65f-4bdc-a269-b46128e9ae39",
        "colab": {
          "base_uri": "https://localhost:8080/",
          "height": 368
        }
      },
      "source": [
        "source = rich\n",
        "brush = alt.selection(type='interval', encodings=['x'])\n",
        "\n",
        "bars = alt.Chart().mark_bar().encode(\n",
        "    x='medianHouseholdIncome',\n",
        "    y='pop2019',\n",
        "    color = \"name\",\n",
        "    opacity=alt.condition(brush, alt.OpacityValue(1), alt.OpacityValue(0.7)),).add_selection(brush)\n",
        "\n",
        "line = alt.Chart().mark_rule(color='red').encode(\n",
        "    y='mean(medianHouseholdIncome)',\n",
        "    size=alt.SizeValue(3)).transform_filter(brush)\n",
        "\n",
        "alt.layer(bars, line, data=source)"
      ],
      "execution_count": 0,
      "outputs": [
        {
          "output_type": "execute_result",
          "data": {
            "text/plain": [
              "alt.LayerChart(...)"
            ],
            "text/html": [
              "\n",
              "<div id=\"altair-viz-02805061202f4250b8dbd8653a0dfa44\"></div>\n",
              "<script type=\"text/javascript\">\n",
              "  (function(spec, embedOpt){\n",
              "    let outputDiv = document.currentScript.previousElementSibling;\n",
              "    if (outputDiv.id !== \"altair-viz-02805061202f4250b8dbd8653a0dfa44\") {\n",
              "      outputDiv = document.getElementById(\"altair-viz-02805061202f4250b8dbd8653a0dfa44\");\n",
              "    }\n",
              "    const paths = {\n",
              "      \"vega\": \"https://cdn.jsdelivr.net/npm//vega@5?noext\",\n",
              "      \"vega-lib\": \"https://cdn.jsdelivr.net/npm//vega-lib?noext\",\n",
              "      \"vega-lite\": \"https://cdn.jsdelivr.net/npm//vega-lite@4.8.1?noext\",\n",
              "      \"vega-embed\": \"https://cdn.jsdelivr.net/npm//vega-embed@6?noext\",\n",
              "    };\n",
              "\n",
              "    function loadScript(lib) {\n",
              "      return new Promise(function(resolve, reject) {\n",
              "        var s = document.createElement('script');\n",
              "        s.src = paths[lib];\n",
              "        s.async = true;\n",
              "        s.onload = () => resolve(paths[lib]);\n",
              "        s.onerror = () => reject(`Error loading script: ${paths[lib]}`);\n",
              "        document.getElementsByTagName(\"head\")[0].appendChild(s);\n",
              "      });\n",
              "    }\n",
              "\n",
              "    function showError(err) {\n",
              "      outputDiv.innerHTML = `<div class=\"error\" style=\"color:red;\">${err}</div>`;\n",
              "      throw err;\n",
              "    }\n",
              "\n",
              "    function displayChart(vegaEmbed) {\n",
              "      vegaEmbed(outputDiv, spec, embedOpt)\n",
              "        .catch(err => showError(`Javascript Error: ${err.message}<br>This usually means there's a typo in your chart specification. See the javascript console for the full traceback.`));\n",
              "    }\n",
              "\n",
              "    if(typeof define === \"function\" && define.amd) {\n",
              "      requirejs.config({paths});\n",
              "      require([\"vega-embed\"], displayChart, err => showError(`Error loading script: ${err.message}`));\n",
              "    } else if (typeof vegaEmbed === \"function\") {\n",
              "      displayChart(vegaEmbed);\n",
              "    } else {\n",
              "      loadScript(\"vega\")\n",
              "        .then(() => loadScript(\"vega-lite\"))\n",
              "        .then(() => loadScript(\"vega-embed\"))\n",
              "        .catch(showError)\n",
              "        .then(() => displayChart(vegaEmbed));\n",
              "    }\n",
              "  })({\"config\": {\"view\": {\"continuousWidth\": 400, \"continuousHeight\": 300}}, \"layer\": [{\"mark\": \"bar\", \"encoding\": {\"color\": {\"type\": \"nominal\", \"field\": \"name\"}, \"opacity\": {\"condition\": {\"value\": 1, \"selection\": \"selector016\"}, \"value\": 0.7}, \"x\": {\"type\": \"quantitative\", \"field\": \"medianHouseholdIncome\"}, \"y\": {\"type\": \"quantitative\", \"field\": \"pop2019\"}}, \"selection\": {\"selector016\": {\"type\": \"interval\", \"encodings\": [\"x\"]}}}, {\"mark\": {\"type\": \"rule\", \"color\": \"red\"}, \"encoding\": {\"size\": {\"value\": 3}, \"y\": {\"type\": \"quantitative\", \"aggregate\": \"mean\", \"field\": \"medianHouseholdIncome\"}}, \"transform\": [{\"filter\": {\"selection\": \"selector016\"}}]}], \"data\": {\"name\": \"data-b2191c6e4d8961874d1d2334fa0570dc\"}, \"$schema\": \"https://vega.github.io/schema/vega-lite/v4.8.1.json\", \"datasets\": {\"data-b2191c6e4d8961874d1d2334fa0570dc\": [{\"name\": \"Luxembourg\", \"medianHouseholdIncome\": 52493, \"medianPerCapitaIncome\": 18418, \"pop2019\": 615.729}, {\"name\": \"Norway\", \"medianHouseholdIncome\": 51489, \"medianPerCapitaIncome\": 19308, \"pop2019\": 5378.857}, {\"name\": \"Sweden\", \"medianHouseholdIncome\": 50514, \"medianPerCapitaIncome\": 18632, \"pop2019\": 10036.379}, {\"name\": \"Australia\", \"medianHouseholdIncome\": 46555, \"medianPerCapitaIncome\": 15026, \"pop2019\": 25203.198}, {\"name\": \"Denmark\", \"medianHouseholdIncome\": 44360, \"medianPerCapitaIncome\": 18262, \"pop2019\": 5771.876}, {\"name\": \"United States\", \"medianHouseholdIncome\": 43585, \"medianPerCapitaIncome\": 15480, \"pop2019\": 329064.917}, {\"name\": \"Canada\", \"medianHouseholdIncome\": 41280, \"medianPerCapitaIncome\": 15181, \"pop2019\": 37411.047}, {\"name\": \"South Korea\", \"medianHouseholdIncome\": 40861, \"medianPerCapitaIncome\": 11950, \"pop2019\": 51225.308}, {\"name\": \"Kuwait\", \"medianHouseholdIncome\": 40854, \"medianPerCapitaIncome\": 7487, \"pop2019\": 4207.083}, {\"name\": \"Netherlands\", \"medianHouseholdIncome\": 38584, \"medianPerCapitaIncome\": 14450, \"pop2019\": 17097.13}]}}, {\"mode\": \"vega-lite\"});\n",
              "</script>"
            ]
          },
          "metadata": {
            "tags": []
          },
          "execution_count": 91
        }
      ]
    },
    {
      "cell_type": "code",
      "metadata": {
        "id": "qNT3VCiYPQ7L",
        "colab_type": "code",
        "outputId": "4877d774-f8bd-4d4a-f8c4-2c768d9a85e5",
        "colab": {
          "base_uri": "https://localhost:8080/",
          "height": 368
        }
      },
      "source": [
        "source = poor\n",
        "brush = alt.selection(type='interval', encodings=['x'])\n",
        "\n",
        "bars = alt.Chart().mark_bar().encode(\n",
        "    x='medianHouseholdIncome',\n",
        "    y='pop2019',\n",
        "    color = \"name\",\n",
        "    opacity=alt.condition(brush, alt.OpacityValue(1), alt.OpacityValue(0.7)),).add_selection(brush)\n",
        "\n",
        "line = alt.Chart().mark_rule(color='red').encode(\n",
        "    y='mean(medianHouseholdIncome)',\n",
        "    size=alt.SizeValue(3)).transform_filter(brush)\n",
        "\n",
        "alt.layer(bars, line, data=source)"
      ],
      "execution_count": 0,
      "outputs": [
        {
          "output_type": "execute_result",
          "data": {
            "text/plain": [
              "alt.LayerChart(...)"
            ],
            "text/html": [
              "\n",
              "<div id=\"altair-viz-1bbbe90c0292458d946c634b66f1ca14\"></div>\n",
              "<script type=\"text/javascript\">\n",
              "  (function(spec, embedOpt){\n",
              "    let outputDiv = document.currentScript.previousElementSibling;\n",
              "    if (outputDiv.id !== \"altair-viz-1bbbe90c0292458d946c634b66f1ca14\") {\n",
              "      outputDiv = document.getElementById(\"altair-viz-1bbbe90c0292458d946c634b66f1ca14\");\n",
              "    }\n",
              "    const paths = {\n",
              "      \"vega\": \"https://cdn.jsdelivr.net/npm//vega@5?noext\",\n",
              "      \"vega-lib\": \"https://cdn.jsdelivr.net/npm//vega-lib?noext\",\n",
              "      \"vega-lite\": \"https://cdn.jsdelivr.net/npm//vega-lite@4.8.1?noext\",\n",
              "      \"vega-embed\": \"https://cdn.jsdelivr.net/npm//vega-embed@6?noext\",\n",
              "    };\n",
              "\n",
              "    function loadScript(lib) {\n",
              "      return new Promise(function(resolve, reject) {\n",
              "        var s = document.createElement('script');\n",
              "        s.src = paths[lib];\n",
              "        s.async = true;\n",
              "        s.onload = () => resolve(paths[lib]);\n",
              "        s.onerror = () => reject(`Error loading script: ${paths[lib]}`);\n",
              "        document.getElementsByTagName(\"head\")[0].appendChild(s);\n",
              "      });\n",
              "    }\n",
              "\n",
              "    function showError(err) {\n",
              "      outputDiv.innerHTML = `<div class=\"error\" style=\"color:red;\">${err}</div>`;\n",
              "      throw err;\n",
              "    }\n",
              "\n",
              "    function displayChart(vegaEmbed) {\n",
              "      vegaEmbed(outputDiv, spec, embedOpt)\n",
              "        .catch(err => showError(`Javascript Error: ${err.message}<br>This usually means there's a typo in your chart specification. See the javascript console for the full traceback.`));\n",
              "    }\n",
              "\n",
              "    if(typeof define === \"function\" && define.amd) {\n",
              "      requirejs.config({paths});\n",
              "      require([\"vega-embed\"], displayChart, err => showError(`Error loading script: ${err.message}`));\n",
              "    } else if (typeof vegaEmbed === \"function\") {\n",
              "      displayChart(vegaEmbed);\n",
              "    } else {\n",
              "      loadScript(\"vega\")\n",
              "        .then(() => loadScript(\"vega-lite\"))\n",
              "        .then(() => loadScript(\"vega-embed\"))\n",
              "        .catch(showError)\n",
              "        .then(() => displayChart(vegaEmbed));\n",
              "    }\n",
              "  })({\"config\": {\"view\": {\"continuousWidth\": 400, \"continuousHeight\": 300}}, \"layer\": [{\"mark\": \"bar\", \"encoding\": {\"color\": {\"type\": \"nominal\", \"field\": \"name\"}, \"opacity\": {\"condition\": {\"value\": 1, \"selection\": \"selector014\"}, \"value\": 0.7}, \"x\": {\"type\": \"quantitative\", \"field\": \"medianHouseholdIncome\"}, \"y\": {\"type\": \"quantitative\", \"field\": \"pop2019\"}}, \"selection\": {\"selector014\": {\"type\": \"interval\", \"encodings\": [\"y\"]}}}, {\"mark\": {\"type\": \"rule\", \"color\": \"red\"}, \"encoding\": {\"size\": {\"value\": 3}, \"y\": {\"type\": \"quantitative\", \"aggregate\": \"mean\", \"field\": \"medianHouseholdIncome\"}}, \"transform\": [{\"filter\": {\"selection\": \"selector014\"}}]}], \"data\": {\"name\": \"data-d5aaf8a0264d22d3b22d4cb2a3a18c08\"}, \"$schema\": \"https://vega.github.io/schema/vega-lite/v4.8.1.json\", \"datasets\": {\"data-d5aaf8a0264d22d3b22d4cb2a3a18c08\": [{\"name\": \"Togo\", \"medianHouseholdIncome\": 571, \"medianPerCapitaIncome\": 279, \"pop2019\": 8082.366}, {\"name\": \"Burundi\", \"medianHouseholdIncome\": 673, \"medianPerCapitaIncome\": 129, \"pop2019\": 11530.58}, {\"name\": \"Liberia\", \"medianHouseholdIncome\": 781, \"medianPerCapitaIncome\": 118, \"pop2019\": 4937.374}, {\"name\": \"Madagascar\", \"medianHouseholdIncome\": 1013, \"medianPerCapitaIncome\": 205, \"pop2019\": 26969.307}, {\"name\": \"Rwanda\", \"medianHouseholdIncome\": 1101, \"medianPerCapitaIncome\": 235, \"pop2019\": 12626.95}, {\"name\": \"Zambia\", \"medianHouseholdIncome\": 1501, \"medianPerCapitaIncome\": 287, \"pop2019\": 17861.03}, {\"name\": \"Benin\", \"medianHouseholdIncome\": 1502, \"medianPerCapitaIncome\": 237, \"pop2019\": 11801.151}, {\"name\": \"Burkina Faso\", \"medianHouseholdIncome\": 1530, \"medianPerCapitaIncome\": 168, \"pop2019\": 20321.378}, {\"name\": \"Uganda\", \"medianHouseholdIncome\": 1775, \"medianPerCapitaIncome\": 296, \"pop2019\": 44269.594}, {\"name\": \"Kenya\", \"medianHouseholdIncome\": 1870, \"medianPerCapitaIncome\": 402, \"pop2019\": 52573.973}]}}, {\"mode\": \"vega-lite\"});\n",
              "</script>"
            ]
          },
          "metadata": {
            "tags": []
          },
          "execution_count": 73
        }
      ]
    },
    {
      "cell_type": "markdown",
      "metadata": {
        "id": "2uBrBRgsdIHU",
        "colab_type": "text"
      },
      "source": [
        "### From the data collected above, no direct correlation can be made between highly populated nations and their median household income to lower populated nations. A country may be highly populated, like the US and have a higher median household income or have a low population like Luxemburg and have a high median household income. One nation worth mentioning, that was in the richest nations category, is Kuwait. Being a relativly wealthy country compared most other nations and having a lower population makes for an easier dispersment of wealth to it's citizens."
      ]
    }
  ]
}