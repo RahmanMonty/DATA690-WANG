{
 "cells": [
  {
   "cell_type": "code",
   "execution_count": 3,
   "metadata": {},
   "outputs": [
    {
     "ename": "SyntaxError",
     "evalue": "invalid syntax (<ipython-input-3-e1bc6b95dc6e>, line 1)",
     "output_type": "error",
     "traceback": [
      "\u001b[1;36m  File \u001b[1;32m\"<ipython-input-3-e1bc6b95dc6e>\"\u001b[1;36m, line \u001b[1;32m1\u001b[0m\n\u001b[1;33m    1Issue of interest: Comparison of developed nations average and median income among the working population.\u001b[0m\n\u001b[1;37m         ^\u001b[0m\n\u001b[1;31mSyntaxError\u001b[0m\u001b[1;31m:\u001b[0m invalid syntax\n"
     ]
    }
   ],
   "source": [
    "# 1 Issue of interest: Comparison of developed nations average and median income among the working population.\n",
    "\n",
    "# 2 Why is this issue important: To give an insight on the significance of the difference between a nations over all wealth and the actual wealth of the population mean and to find and determine if such discrepancies/ or not there of; are a common trend among all developed nations.\n",
    "\n",
    "# 3 What questions will I try to answer: After identifying the nations to be considered in the analysis. Wealth data from each nation; to include average income, median income, and wealth status ranking to see if there is a similarity. Identifying the correlation (if any) of the difference between mean and median income numbers and wealth ranking.\n",
    "\n",
    "# 4 Where will I get the data: data.gov for domestic numbers. A global data wealth book pdf published annually by Credit Suisse Research Institute. \n",
    "\n",
    "# 5 Unit of analysis: Countries\n",
    "\n",
    "# 6 Variables/Measures that will be used: Nations median income, mean income, and world ranking. \n",
    "\n",
    "# 7 Techniques: I will use summary statistics and graphical representations.\n"
   ]
  },
  {
   "cell_type": "code",
   "execution_count": 12,
   "metadata": {},
   "outputs": [],
   "source": [
    "import matplotlib.pyplot as plt\n",
    "import pandas as pd\n",
    "import seaborn as sns ; sns.set()"
   ]
  },
  {
   "cell_type": "code",
   "execution_count": 13,
   "metadata": {},
   "outputs": [],
   "source": [
    "df = pd.read_csv(r\"C:\\Users\\rahma\\OneDrive\\Documents\\Monty Documents\\Data 690 Stats\\data.csv\")\n",
    "# Setting a variable of df (common variable name \"data frame\") for the CSV file obtained from \n",
    "# https://data.worldbank.org/indicator/NY.ADJ.NNTY.PC.CD"
   ]
  },
  {
   "cell_type": "code",
   "execution_count": 14,
   "metadata": {},
   "outputs": [
    {
     "data": {
      "text/plain": [
       "<bound method DataFrame.info of            name  medianHouseholdIncome  medianPerCapitaIncome    pop2019\n",
       "0    Luxembourg                  52493                  18418    615.729\n",
       "1        Norway                  51489                  19308   5378.857\n",
       "2        Sweden                  50514                  18632  10036.379\n",
       "3     Australia                  46555                  15026  25203.198\n",
       "4       Denmark                  44360                  18262   5771.876\n",
       "..          ...                    ...                    ...        ...\n",
       "119      Rwanda                   1101                    235  12626.950\n",
       "120  Madagascar                   1013                    205  26969.307\n",
       "121     Liberia                    781                    118   4937.374\n",
       "122     Burundi                    673                    129  11530.580\n",
       "123        Togo                    571                    279   8082.366\n",
       "\n",
       "[124 rows x 4 columns]>"
      ]
     },
     "execution_count": 14,
     "metadata": {},
     "output_type": "execute_result"
    }
   ],
   "source": [
    "df.info"
   ]
  },
  {
   "cell_type": "code",
   "execution_count": 4,
   "metadata": {},
   "outputs": [
    {
     "data": {
      "text/html": [
       "<div>\n",
       "<style scoped>\n",
       "    .dataframe tbody tr th:only-of-type {\n",
       "        vertical-align: middle;\n",
       "    }\n",
       "\n",
       "    .dataframe tbody tr th {\n",
       "        vertical-align: top;\n",
       "    }\n",
       "\n",
       "    .dataframe thead th {\n",
       "        text-align: right;\n",
       "    }\n",
       "</style>\n",
       "<table border=\"1\" class=\"dataframe\">\n",
       "  <thead>\n",
       "    <tr style=\"text-align: right;\">\n",
       "      <th></th>\n",
       "      <th>name</th>\n",
       "      <th>medianHouseholdIncome</th>\n",
       "      <th>medianPerCapitaIncome</th>\n",
       "      <th>pop2019</th>\n",
       "    </tr>\n",
       "  </thead>\n",
       "  <tbody>\n",
       "    <tr>\n",
       "      <td>0</td>\n",
       "      <td>Luxembourg</td>\n",
       "      <td>52493</td>\n",
       "      <td>18418</td>\n",
       "      <td>615.729</td>\n",
       "    </tr>\n",
       "    <tr>\n",
       "      <td>1</td>\n",
       "      <td>Norway</td>\n",
       "      <td>51489</td>\n",
       "      <td>19308</td>\n",
       "      <td>5378.857</td>\n",
       "    </tr>\n",
       "    <tr>\n",
       "      <td>2</td>\n",
       "      <td>Sweden</td>\n",
       "      <td>50514</td>\n",
       "      <td>18632</td>\n",
       "      <td>10036.379</td>\n",
       "    </tr>\n",
       "    <tr>\n",
       "      <td>3</td>\n",
       "      <td>Australia</td>\n",
       "      <td>46555</td>\n",
       "      <td>15026</td>\n",
       "      <td>25203.198</td>\n",
       "    </tr>\n",
       "    <tr>\n",
       "      <td>4</td>\n",
       "      <td>Denmark</td>\n",
       "      <td>44360</td>\n",
       "      <td>18262</td>\n",
       "      <td>5771.876</td>\n",
       "    </tr>\n",
       "  </tbody>\n",
       "</table>\n",
       "</div>"
      ],
      "text/plain": [
       "         name  medianHouseholdIncome  medianPerCapitaIncome    pop2019\n",
       "0  Luxembourg                  52493                  18418    615.729\n",
       "1      Norway                  51489                  19308   5378.857\n",
       "2      Sweden                  50514                  18632  10036.379\n",
       "3   Australia                  46555                  15026  25203.198\n",
       "4     Denmark                  44360                  18262   5771.876"
      ]
     },
     "execution_count": 4,
     "metadata": {},
     "output_type": "execute_result"
    }
   ],
   "source": [
    "df.head()\n",
    "# The variable df is now showing the head, or the first 5 rows, of the CSV file"
   ]
  },
  {
   "cell_type": "code",
   "execution_count": 5,
   "metadata": {},
   "outputs": [
    {
     "data": {
      "text/html": [
       "<div>\n",
       "<style scoped>\n",
       "    .dataframe tbody tr th:only-of-type {\n",
       "        vertical-align: middle;\n",
       "    }\n",
       "\n",
       "    .dataframe tbody tr th {\n",
       "        vertical-align: top;\n",
       "    }\n",
       "\n",
       "    .dataframe thead th {\n",
       "        text-align: right;\n",
       "    }\n",
       "</style>\n",
       "<table border=\"1\" class=\"dataframe\">\n",
       "  <thead>\n",
       "    <tr style=\"text-align: right;\">\n",
       "      <th></th>\n",
       "      <th>name</th>\n",
       "      <th>medianHouseholdIncome</th>\n",
       "      <th>medianPerCapitaIncome</th>\n",
       "      <th>pop2019</th>\n",
       "    </tr>\n",
       "  </thead>\n",
       "  <tbody>\n",
       "    <tr>\n",
       "      <td>119</td>\n",
       "      <td>Rwanda</td>\n",
       "      <td>1101</td>\n",
       "      <td>235</td>\n",
       "      <td>12626.950</td>\n",
       "    </tr>\n",
       "    <tr>\n",
       "      <td>120</td>\n",
       "      <td>Madagascar</td>\n",
       "      <td>1013</td>\n",
       "      <td>205</td>\n",
       "      <td>26969.307</td>\n",
       "    </tr>\n",
       "    <tr>\n",
       "      <td>121</td>\n",
       "      <td>Liberia</td>\n",
       "      <td>781</td>\n",
       "      <td>118</td>\n",
       "      <td>4937.374</td>\n",
       "    </tr>\n",
       "    <tr>\n",
       "      <td>122</td>\n",
       "      <td>Burundi</td>\n",
       "      <td>673</td>\n",
       "      <td>129</td>\n",
       "      <td>11530.580</td>\n",
       "    </tr>\n",
       "    <tr>\n",
       "      <td>123</td>\n",
       "      <td>Togo</td>\n",
       "      <td>571</td>\n",
       "      <td>279</td>\n",
       "      <td>8082.366</td>\n",
       "    </tr>\n",
       "  </tbody>\n",
       "</table>\n",
       "</div>"
      ],
      "text/plain": [
       "           name  medianHouseholdIncome  medianPerCapitaIncome    pop2019\n",
       "119      Rwanda                   1101                    235  12626.950\n",
       "120  Madagascar                   1013                    205  26969.307\n",
       "121     Liberia                    781                    118   4937.374\n",
       "122     Burundi                    673                    129  11530.580\n",
       "123        Togo                    571                    279   8082.366"
      ]
     },
     "execution_count": 5,
     "metadata": {},
     "output_type": "execute_result"
    }
   ],
   "source": [
    "df.tail()\n",
    "# The variable df is now showing the tail, or the last 5 rows, of the CSV file"
   ]
  },
  {
   "cell_type": "code",
   "execution_count": 6,
   "metadata": {},
   "outputs": [
    {
     "data": {
      "text/html": [
       "<div>\n",
       "<style scoped>\n",
       "    .dataframe tbody tr th:only-of-type {\n",
       "        vertical-align: middle;\n",
       "    }\n",
       "\n",
       "    .dataframe tbody tr th {\n",
       "        vertical-align: top;\n",
       "    }\n",
       "\n",
       "    .dataframe thead th {\n",
       "        text-align: right;\n",
       "    }\n",
       "</style>\n",
       "<table border=\"1\" class=\"dataframe\">\n",
       "  <thead>\n",
       "    <tr style=\"text-align: right;\">\n",
       "      <th></th>\n",
       "      <th>name</th>\n",
       "      <th>medianHouseholdIncome</th>\n",
       "      <th>medianPerCapitaIncome</th>\n",
       "      <th>pop2019</th>\n",
       "    </tr>\n",
       "  </thead>\n",
       "  <tbody>\n",
       "    <tr>\n",
       "      <td>0</td>\n",
       "      <td>Luxembourg</td>\n",
       "      <td>52493</td>\n",
       "      <td>18418</td>\n",
       "      <td>615.729</td>\n",
       "    </tr>\n",
       "    <tr>\n",
       "      <td>1</td>\n",
       "      <td>Norway</td>\n",
       "      <td>51489</td>\n",
       "      <td>19308</td>\n",
       "      <td>5378.857</td>\n",
       "    </tr>\n",
       "    <tr>\n",
       "      <td>2</td>\n",
       "      <td>Sweden</td>\n",
       "      <td>50514</td>\n",
       "      <td>18632</td>\n",
       "      <td>10036.379</td>\n",
       "    </tr>\n",
       "    <tr>\n",
       "      <td>3</td>\n",
       "      <td>Australia</td>\n",
       "      <td>46555</td>\n",
       "      <td>15026</td>\n",
       "      <td>25203.198</td>\n",
       "    </tr>\n",
       "    <tr>\n",
       "      <td>4</td>\n",
       "      <td>Denmark</td>\n",
       "      <td>44360</td>\n",
       "      <td>18262</td>\n",
       "      <td>5771.876</td>\n",
       "    </tr>\n",
       "    <tr>\n",
       "      <td>5</td>\n",
       "      <td>United States</td>\n",
       "      <td>43585</td>\n",
       "      <td>15480</td>\n",
       "      <td>329064.917</td>\n",
       "    </tr>\n",
       "    <tr>\n",
       "      <td>6</td>\n",
       "      <td>Canada</td>\n",
       "      <td>41280</td>\n",
       "      <td>15181</td>\n",
       "      <td>37411.047</td>\n",
       "    </tr>\n",
       "    <tr>\n",
       "      <td>7</td>\n",
       "      <td>South Korea</td>\n",
       "      <td>40861</td>\n",
       "      <td>11950</td>\n",
       "      <td>51225.308</td>\n",
       "    </tr>\n",
       "    <tr>\n",
       "      <td>8</td>\n",
       "      <td>Kuwait</td>\n",
       "      <td>40854</td>\n",
       "      <td>7487</td>\n",
       "      <td>4207.083</td>\n",
       "    </tr>\n",
       "    <tr>\n",
       "      <td>9</td>\n",
       "      <td>Netherlands</td>\n",
       "      <td>38584</td>\n",
       "      <td>14450</td>\n",
       "      <td>17097.130</td>\n",
       "    </tr>\n",
       "  </tbody>\n",
       "</table>\n",
       "</div>"
      ],
      "text/plain": [
       "            name  medianHouseholdIncome  medianPerCapitaIncome     pop2019\n",
       "0     Luxembourg                  52493                  18418     615.729\n",
       "1         Norway                  51489                  19308    5378.857\n",
       "2         Sweden                  50514                  18632   10036.379\n",
       "3      Australia                  46555                  15026   25203.198\n",
       "4        Denmark                  44360                  18262    5771.876\n",
       "5  United States                  43585                  15480  329064.917\n",
       "6         Canada                  41280                  15181   37411.047\n",
       "7    South Korea                  40861                  11950   51225.308\n",
       "8         Kuwait                  40854                   7487    4207.083\n",
       "9    Netherlands                  38584                  14450   17097.130"
      ]
     },
     "execution_count": 6,
     "metadata": {},
     "output_type": "execute_result"
    }
   ],
   "source": [
    "rich = df.nlargest(10, \"medianHouseholdIncome\")\n",
    "rich\n",
    "# Here we are defining a new variable \"rich\" to isolatae the top 10 countries with the highest median household income"
   ]
  },
  {
   "cell_type": "code",
   "execution_count": 7,
   "metadata": {},
   "outputs": [
    {
     "data": {
      "text/html": [
       "<div>\n",
       "<style scoped>\n",
       "    .dataframe tbody tr th:only-of-type {\n",
       "        vertical-align: middle;\n",
       "    }\n",
       "\n",
       "    .dataframe tbody tr th {\n",
       "        vertical-align: top;\n",
       "    }\n",
       "\n",
       "    .dataframe thead th {\n",
       "        text-align: right;\n",
       "    }\n",
       "</style>\n",
       "<table border=\"1\" class=\"dataframe\">\n",
       "  <thead>\n",
       "    <tr style=\"text-align: right;\">\n",
       "      <th></th>\n",
       "      <th>name</th>\n",
       "      <th>medianHouseholdIncome</th>\n",
       "      <th>medianPerCapitaIncome</th>\n",
       "      <th>pop2019</th>\n",
       "    </tr>\n",
       "  </thead>\n",
       "  <tbody>\n",
       "    <tr>\n",
       "      <td>123</td>\n",
       "      <td>Togo</td>\n",
       "      <td>571</td>\n",
       "      <td>279</td>\n",
       "      <td>8082.366</td>\n",
       "    </tr>\n",
       "    <tr>\n",
       "      <td>122</td>\n",
       "      <td>Burundi</td>\n",
       "      <td>673</td>\n",
       "      <td>129</td>\n",
       "      <td>11530.580</td>\n",
       "    </tr>\n",
       "    <tr>\n",
       "      <td>121</td>\n",
       "      <td>Liberia</td>\n",
       "      <td>781</td>\n",
       "      <td>118</td>\n",
       "      <td>4937.374</td>\n",
       "    </tr>\n",
       "    <tr>\n",
       "      <td>120</td>\n",
       "      <td>Madagascar</td>\n",
       "      <td>1013</td>\n",
       "      <td>205</td>\n",
       "      <td>26969.307</td>\n",
       "    </tr>\n",
       "    <tr>\n",
       "      <td>119</td>\n",
       "      <td>Rwanda</td>\n",
       "      <td>1101</td>\n",
       "      <td>235</td>\n",
       "      <td>12626.950</td>\n",
       "    </tr>\n",
       "    <tr>\n",
       "      <td>118</td>\n",
       "      <td>Zambia</td>\n",
       "      <td>1501</td>\n",
       "      <td>287</td>\n",
       "      <td>17861.030</td>\n",
       "    </tr>\n",
       "    <tr>\n",
       "      <td>117</td>\n",
       "      <td>Benin</td>\n",
       "      <td>1502</td>\n",
       "      <td>237</td>\n",
       "      <td>11801.151</td>\n",
       "    </tr>\n",
       "    <tr>\n",
       "      <td>116</td>\n",
       "      <td>Burkina Faso</td>\n",
       "      <td>1530</td>\n",
       "      <td>168</td>\n",
       "      <td>20321.378</td>\n",
       "    </tr>\n",
       "    <tr>\n",
       "      <td>115</td>\n",
       "      <td>Uganda</td>\n",
       "      <td>1775</td>\n",
       "      <td>296</td>\n",
       "      <td>44269.594</td>\n",
       "    </tr>\n",
       "    <tr>\n",
       "      <td>114</td>\n",
       "      <td>Kenya</td>\n",
       "      <td>1870</td>\n",
       "      <td>402</td>\n",
       "      <td>52573.973</td>\n",
       "    </tr>\n",
       "  </tbody>\n",
       "</table>\n",
       "</div>"
      ],
      "text/plain": [
       "             name  medianHouseholdIncome  medianPerCapitaIncome    pop2019\n",
       "123          Togo                    571                    279   8082.366\n",
       "122       Burundi                    673                    129  11530.580\n",
       "121       Liberia                    781                    118   4937.374\n",
       "120    Madagascar                   1013                    205  26969.307\n",
       "119        Rwanda                   1101                    235  12626.950\n",
       "118        Zambia                   1501                    287  17861.030\n",
       "117         Benin                   1502                    237  11801.151\n",
       "116  Burkina Faso                   1530                    168  20321.378\n",
       "115        Uganda                   1775                    296  44269.594\n",
       "114         Kenya                   1870                    402  52573.973"
      ]
     },
     "execution_count": 7,
     "metadata": {},
     "output_type": "execute_result"
    }
   ],
   "source": [
    "poor = df.nsmallest(10, \"medianHouseholdIncome\")\n",
    "poor\n",
    "# Here we are defining a new variable \"poor\" to isolate the 10 poorest median household income countries"
   ]
  },
  {
   "cell_type": "code",
   "execution_count": 8,
   "metadata": {},
   "outputs": [
    {
     "data": {
      "text/plain": [
       "45057.5"
      ]
     },
     "execution_count": 8,
     "metadata": {},
     "output_type": "execute_result"
    }
   ],
   "source": [
    "rich_avg = rich[\"medianHouseholdIncome\"].mean()\n",
    "rich_avg"
   ]
  },
  {
   "cell_type": "code",
   "execution_count": 9,
   "metadata": {},
   "outputs": [
    {
     "data": {
      "text/plain": [
       "1231.7"
      ]
     },
     "execution_count": 9,
     "metadata": {},
     "output_type": "execute_result"
    }
   ],
   "source": [
    "poor_avg = poor[\"medianHouseholdIncome\"].mean()\n",
    "poor_avg"
   ]
  },
  {
   "cell_type": "raw",
   "metadata": {},
   "source": []
  },
  {
   "cell_type": "code",
   "execution_count": 10,
   "metadata": {},
   "outputs": [
    {
     "data": {
      "text/plain": [
       "<matplotlib.axes._subplots.AxesSubplot at 0x1f4fbbfa708>"
      ]
     },
     "execution_count": 10,
     "metadata": {},
     "output_type": "execute_result"
    },
    {
     "data": {
      "image/png": "[encoded data removed]",
      "text/plain": [
       "<Figure size 432x288 with 1 Axes>"
      ]
     },
     "metadata": {
      "needs_background": "light"
     },
     "output_type": "display_data"
    }
   ],
   "source": [
    "ax = sns.scatterplot(x = \"medianHouseholdIncome\", y = \"pop2019\", data = rich )\n",
    "ax\n",
    "# Using the library seaborn (A python visualization based on matplotlib) a scatterplot is made comparing the 10 riches countries and\n",
    "# their populations"
   ]
  },
  {
   "cell_type": "code",
   "execution_count": 11,
   "metadata": {},
   "outputs": [
    {
     "data": {
      "text/plain": [
       "<matplotlib.axes._subplots.AxesSubplot at 0x1f4fbbf7348>"
      ]
     },
     "execution_count": 11,
     "metadata": {},
     "output_type": "execute_result"
    },
    {
     "data": {
      "image/png": "[encoded data removed]",
      "text/plain": [
       "<Figure size 432x288 with 1 Axes>"
      ]
     },
     "metadata": {
      "needs_background": "light"
     },
     "output_type": "display_data"
    }
   ],
   "source": [
    "ay = sns.scatterplot(x = \"medianHouseholdIncome\", y = \"pop2019\", data = poor)\n",
    "ay\n",
    "# Seaborn is used again here to compare the 10 poorest countries and their populations."
   ]
  },
  {
   "cell_type": "code",
   "execution_count": null,
   "metadata": {},
   "outputs": [],
   "source": []
  }
 ],
 "metadata": {
  "kernelspec": {
   "display_name": "Python 3",
   "language": "python",
   "name": "python3"
  },
  "language_info": {
   "codemirror_mode": {
    "name": "ipython",
    "version": 3
   },
   "file_extension": ".py",
   "mimetype": "text/x-python",
   "name": "python",
   "nbconvert_exporter": "python",
   "pygments_lexer": "ipython3",
   "version": "3.7.4"
  }
 },
 "nbformat": 4,
 "nbformat_minor": 4
}
