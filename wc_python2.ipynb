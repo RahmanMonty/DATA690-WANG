{
  "nbformat": 4,
  "nbformat_minor": 0,
  "metadata": {
    "colab": {
      "name": "wc_python2.ipynb",
      "provenance": [],
      "authorship_tag": "ABX9TyMlXqUlxvsW4maJYK12W8JY",
      "include_colab_link": true
    },
    "kernelspec": {
      "name": "python3",
      "display_name": "Python 3"
    }
  },
  "cells": [
    {
      "cell_type": "markdown",
      "metadata": {
        "id": "view-in-github",
        "colab_type": "text"
      },
      "source": [
        "<a href=\"https://colab.research.google.com/github/RahmanMonty/DATA690-WANG/blob/master/wc_python2.ipynb\" target=\"_parent\"><img src=\"https://colab.research.google.com/assets/colab-badge.svg\" alt=\"Open In Colab\"/></a>"
      ]
    },
    {
      "cell_type": "markdown",
      "metadata": {
        "id": "Z_M1NhrJI2Ho",
        "colab_type": "text"
      },
      "source": [
        "# Simple Word Count Using Python\n",
        "We will use an essay as an input."
      ]
    },
    {
      "cell_type": "code",
      "metadata": {
        "id": "woms8AcpIvPN",
        "colab_type": "code",
        "colab": {
          "base_uri": "https://localhost:8080/",
          "height": 34
        },
        "outputId": "bbdb47ba-a2af-4eae-84ad-e27aae9edfd7"
      },
      "source": [
        "import os\n",
        "from wordcloud import wordcloud, STOPWORDS\n",
        "import operator\n",
        "os.listdir()"
      ],
      "execution_count": 70,
      "outputs": [
        {
          "output_type": "execute_result",
          "data": {
            "text/plain": [
              "['.config', 'against-interpretation.txt', 'sample_data']"
            ]
          },
          "metadata": {
            "tags": []
          },
          "execution_count": 70
        }
      ]
    },
    {
      "cell_type": "code",
      "metadata": {
        "id": "-1XmUYP_KtNE",
        "colab_type": "code",
        "colab": {
          "base_uri": "https://localhost:8080/",
          "height": 185
        },
        "outputId": "a2a35b91-0db6-4af4-878d-77aacb0bd951"
      },
      "source": [
        "TEXT_FILE = \"against-interpretation.txt\"\n",
        "\n",
        "with open(TEXT_FILE, errors = 'ignore') as file:\n",
        "     susan_lines = file.readlines()\n",
        "\n",
        "susan_lines[:10]"
      ],
      "execution_count": 71,
      "outputs": [
        {
          "output_type": "execute_result",
          "data": {
            "text/plain": [
              "['Content is the glimpse of something, an\\n',\n",
              " 'encounter like a flash. Its very tinyvery\\n',\n",
              " 'tiny, content.\\n',\n",
              " 'WILLIAM DE KOONING, in an\\n',\n",
              " 'interview\\n',\n",
              " 'It is only shallow people who do not judge\\n',\n",
              " 'by appearances. The mystery of the world is\\n',\n",
              " 'the visible, not the invisible.\\n',\n",
              " 'OSCAR WILDE, in a letter\\n',\n",
              " 'Against Interpretation\\n']"
            ]
          },
          "metadata": {
            "tags": []
          },
          "execution_count": 71
        }
      ]
    },
    {
      "cell_type": "code",
      "metadata": {
        "id": "8_qVfaIzNnN8",
        "colab_type": "code",
        "colab": {
          "base_uri": "https://localhost:8080/",
          "height": 34
        },
        "outputId": "fc6a9157-2214-41de-f940-c1f11288db93"
      },
      "source": [
        "len(susan_lines)"
      ],
      "execution_count": 72,
      "outputs": [
        {
          "output_type": "execute_result",
          "data": {
            "text/plain": [
              "372"
            ]
          },
          "metadata": {
            "tags": []
          },
          "execution_count": 72
        }
      ]
    },
    {
      "cell_type": "code",
      "metadata": {
        "id": "AtpwVUhCNpNu",
        "colab_type": "code",
        "colab": {
          "base_uri": "https://localhost:8080/",
          "height": 101
        },
        "outputId": "eff631eb-5226-4bf0-ef81-be9cfca6db77"
      },
      "source": [
        "susan_words = []\n",
        "\n",
        "for line in susan_lines:\n",
        "    words = line.lower().split(\" \")\n",
        "    susan_words.append(words)\n",
        "\n",
        "susan_words[:5]"
      ],
      "execution_count": 73,
      "outputs": [
        {
          "output_type": "execute_result",
          "data": {
            "text/plain": [
              "[['content', 'is', 'the', 'glimpse', 'of', 'something,', 'an\\n'],\n",
              " ['encounter', 'like', 'a', 'flash.', 'its', 'very', 'tinyvery\\n'],\n",
              " ['tiny,', 'content.\\n'],\n",
              " ['william', 'de', 'kooning,', 'in', 'an\\n'],\n",
              " ['interview\\n']]"
            ]
          },
          "metadata": {
            "tags": []
          },
          "execution_count": 73
        }
      ]
    },
    {
      "cell_type": "code",
      "metadata": {
        "id": "xQw2G3ucVxs1",
        "colab_type": "code",
        "colab": {
          "base_uri": "https://localhost:8080/",
          "height": 185
        },
        "outputId": "11ba0403-5ff8-4a62-8170-9afee416a559"
      },
      "source": [
        "type(STOPWORDS)\n",
        "list(STOPWORDS)[-10:]"
      ],
      "execution_count": 74,
      "outputs": [
        {
          "output_type": "execute_result",
          "data": {
            "text/plain": [
              "['than',\n",
              " 'i',\n",
              " \"isn't\",\n",
              " \"wouldn't\",\n",
              " 'no',\n",
              " 'having',\n",
              " \"it's\",\n",
              " \"how's\",\n",
              " \"they've\",\n",
              " \"aren't\"]"
            ]
          },
          "metadata": {
            "tags": []
          },
          "execution_count": 74
        }
      ]
    },
    {
      "cell_type": "code",
      "metadata": {
        "id": "Pv35h1jNNpMt",
        "colab_type": "code",
        "colab": {
          "base_uri": "https://localhost:8080/",
          "height": 269
        },
        "outputId": "4267d699-12fd-4def-f4ae-20a30b1795f7"
      },
      "source": [
        "susan_words2 = []\n",
        "\n",
        "for x in susan_words:\n",
        "    for word in x:\n",
        "        if word in STOPWORDS:\n",
        "            continue\n",
        "        else:\n",
        "            susan_words2.append(word)\n",
        "\n",
        "susan_words2[:15]"
      ],
      "execution_count": 75,
      "outputs": [
        {
          "output_type": "execute_result",
          "data": {
            "text/plain": [
              "['content',\n",
              " 'glimpse',\n",
              " 'something,',\n",
              " 'an\\n',\n",
              " 'encounter',\n",
              " 'flash.',\n",
              " 'tinyvery\\n',\n",
              " 'tiny,',\n",
              " 'content.\\n',\n",
              " 'william',\n",
              " 'de',\n",
              " 'kooning,',\n",
              " 'an\\n',\n",
              " 'interview\\n',\n",
              " 'shallow']"
            ]
          },
          "metadata": {
            "tags": []
          },
          "execution_count": 75
        }
      ]
    },
    {
      "cell_type": "code",
      "metadata": {
        "id": "FHk-w8IvQl2D",
        "colab_type": "code",
        "colab": {}
      },
      "source": [
        "word_count_dict = {}\n",
        "\n",
        "for word in susan_words2:\n",
        "    if word in word_count_dict.keys():\n",
        "        word_count_dict[word] += 1     #increase value by 1\n",
        "    else:\n",
        "        word_count_dict[word] = 1 #add a new key value pair\n"
      ],
      "execution_count": 0,
      "outputs": []
    },
    {
      "cell_type": "code",
      "metadata": {
        "id": "AKX7KjDtRSM2",
        "colab_type": "code",
        "colab": {
          "base_uri": "https://localhost:8080/",
          "height": 185
        },
        "outputId": "36c058e0-ffaf-4dda-92eb-79d9ee9567b1"
      },
      "source": [
        "list(word_count_dict.items())[:10]"
      ],
      "execution_count": 77,
      "outputs": [
        {
          "output_type": "execute_result",
          "data": {
            "text/plain": [
              "[('content', 20),\n",
              " ('glimpse', 1),\n",
              " ('something,', 3),\n",
              " ('an\\n', 7),\n",
              " ('encounter', 1),\n",
              " ('flash.', 1),\n",
              " ('tinyvery\\n', 1),\n",
              " ('tiny,', 1),\n",
              " ('content.\\n', 1),\n",
              " ('william', 1)]"
            ]
          },
          "metadata": {
            "tags": []
          },
          "execution_count": 77
        }
      ]
    },
    {
      "cell_type": "code",
      "metadata": {
        "id": "_P9KIc7AShFa",
        "colab_type": "code",
        "colab": {
          "base_uri": "https://localhost:8080/",
          "height": 185
        },
        "outputId": "3eb9ad82-36d7-4902-82d7-f3726171b57f"
      },
      "source": [
        "\n",
        "sorted_dict = sorted(word_count_dict.items(), key = operator.itemgetter(1))\n",
        "sorted_dict[-10:]"
      ],
      "execution_count": 78,
      "outputs": [
        {
          "output_type": "execute_result",
          "data": {
            "text/plain": [
              "[('to\\n', 12),\n",
              " ('form', 12),\n",
              " ('a\\n', 14),\n",
              " ('works', 14),\n",
              " ('the\\n', 15),\n",
              " ('of\\n', 16),\n",
              " ('content', 20),\n",
              " ('work', 21),\n",
              " ('interpretation', 28),\n",
              " ('art', 51)]"
            ]
          },
          "metadata": {
            "tags": []
          },
          "execution_count": 78
        }
      ]
    }
  ]
}